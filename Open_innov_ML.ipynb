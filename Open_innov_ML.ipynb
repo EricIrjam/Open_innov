{
 "cells": [
  {
   "cell_type": "code",
   "execution_count": 2,
   "id": "f7e32472-c68a-474b-bf09-3c8036640f47",
   "metadata": {},
   "outputs": [
    {
     "name": "stdout",
     "output_type": "stream",
     "text": [
      "Requirement already satisfied: pandas in /opt/conda/lib/python3.11/site-packages (2.2.2)\n",
      "Requirement already satisfied: numpy>=1.23.2 in /opt/conda/lib/python3.11/site-packages (from pandas) (1.26.4)\n",
      "Requirement already satisfied: python-dateutil>=2.8.2 in /opt/conda/lib/python3.11/site-packages (from pandas) (2.8.2)\n",
      "Requirement already satisfied: pytz>=2020.1 in /opt/conda/lib/python3.11/site-packages (from pandas) (2023.3.post1)\n",
      "Requirement already satisfied: tzdata>=2022.7 in /opt/conda/lib/python3.11/site-packages (from pandas) (2024.1)\n",
      "Requirement already satisfied: six>=1.5 in /opt/conda/lib/python3.11/site-packages (from python-dateutil>=2.8.2->pandas) (1.16.0)\n"
     ]
    }
   ],
   "source": [
    "pip install pandas"
   ]
  },
  {
   "cell_type": "code",
   "execution_count": 2,
   "id": "381cff09-e52d-45ae-aa05-7ee2906cfc07",
   "metadata": {},
   "outputs": [],
   "source": [
    "import pandas as pd"
   ]
  },
  {
   "cell_type": "code",
   "execution_count": 3,
   "id": "6a6289ef-5dc0-4110-ab99-874619f176e2",
   "metadata": {},
   "outputs": [],
   "source": [
    "import numpy as np"
   ]
  },
  {
   "cell_type": "markdown",
   "id": "2eb88527-62c1-4d1d-a61c-47062b01ddf2",
   "metadata": {},
   "source": [
    "## Analyse descriptive du jeu de données"
   ]
  },
  {
   "cell_type": "code",
   "execution_count": 4,
   "id": "8859e7b1-ec03-4d44-9791-6dd0f31cc3d3",
   "metadata": {},
   "outputs": [],
   "source": [
    "df = pd.read_csv('donnees-synop.csv', sep=';', encoding='utf-8')\n",
    "#/home/jovyan/work/"
   ]
  },
  {
   "cell_type": "code",
   "execution_count": 97,
   "id": "71540ac8-ff17-4b99-a3ff-bdee6f89dc52",
   "metadata": {},
   "outputs": [
    {
     "data": {
      "text/html": [
       "<div>\n",
       "<style scoped>\n",
       "    .dataframe tbody tr th:only-of-type {\n",
       "        vertical-align: middle;\n",
       "    }\n",
       "\n",
       "    .dataframe tbody tr th {\n",
       "        vertical-align: top;\n",
       "    }\n",
       "\n",
       "    .dataframe thead th {\n",
       "        text-align: right;\n",
       "    }\n",
       "</style>\n",
       "<table border=\"1\" class=\"dataframe\">\n",
       "  <thead>\n",
       "    <tr style=\"text-align: right;\">\n",
       "      <th></th>\n",
       "      <th>ID OMM station</th>\n",
       "      <th>Date</th>\n",
       "      <th>Pression au niveau mer</th>\n",
       "      <th>Variation de pression en 3 heures</th>\n",
       "      <th>Type de tendance barométrique</th>\n",
       "      <th>Direction du vent moyen 10 mn</th>\n",
       "      <th>Vitesse du vent moyen 10 mn</th>\n",
       "      <th>Température</th>\n",
       "      <th>Point de rosée</th>\n",
       "      <th>Humidité</th>\n",
       "      <th>...</th>\n",
       "      <th>Altitude</th>\n",
       "      <th>communes (name)</th>\n",
       "      <th>communes (code)</th>\n",
       "      <th>EPCI (name)</th>\n",
       "      <th>EPCI (code)</th>\n",
       "      <th>department (name)</th>\n",
       "      <th>department (code)</th>\n",
       "      <th>region (name)</th>\n",
       "      <th>region (code)</th>\n",
       "      <th>mois_de_l_annee</th>\n",
       "    </tr>\n",
       "  </thead>\n",
       "  <tbody>\n",
       "    <tr>\n",
       "      <th>0</th>\n",
       "      <td>81401</td>\n",
       "      <td>2021-04-06T17:00:00+02:00</td>\n",
       "      <td>101160.0</td>\n",
       "      <td>40.0</td>\n",
       "      <td>8.0</td>\n",
       "      <td>60.0</td>\n",
       "      <td>3.3</td>\n",
       "      <td>304.05</td>\n",
       "      <td>297.95</td>\n",
       "      <td>70.0</td>\n",
       "      <td>...</td>\n",
       "      <td>5</td>\n",
       "      <td>Saint-Laurent-du-Maroni</td>\n",
       "      <td>97311</td>\n",
       "      <td>CC de l'Ouest Guyanais</td>\n",
       "      <td>249730037.0</td>\n",
       "      <td>Guyane</td>\n",
       "      <td>973</td>\n",
       "      <td>Guyane</td>\n",
       "      <td>3.0</td>\n",
       "      <td>4</td>\n",
       "    </tr>\n",
       "    <tr>\n",
       "      <th>1</th>\n",
       "      <td>7314</td>\n",
       "      <td>2021-04-06T20:00:00+02:00</td>\n",
       "      <td>102160.0</td>\n",
       "      <td>20.0</td>\n",
       "      <td>3.0</td>\n",
       "      <td>340.0</td>\n",
       "      <td>7.2</td>\n",
       "      <td>281.55</td>\n",
       "      <td>268.75</td>\n",
       "      <td>40.0</td>\n",
       "      <td>...</td>\n",
       "      <td>11</td>\n",
       "      <td>Saint-Denis-d'Oléron</td>\n",
       "      <td>17323</td>\n",
       "      <td>CC de l'Île d'Oléron</td>\n",
       "      <td>241700624.0</td>\n",
       "      <td>Charente-Maritime</td>\n",
       "      <td>17</td>\n",
       "      <td>Nouvelle-Aquitaine</td>\n",
       "      <td>75.0</td>\n",
       "      <td>4</td>\n",
       "    </tr>\n",
       "    <tr>\n",
       "      <th>2</th>\n",
       "      <td>7650</td>\n",
       "      <td>2021-04-06T20:00:00+02:00</td>\n",
       "      <td>101040.0</td>\n",
       "      <td>160.0</td>\n",
       "      <td>3.0</td>\n",
       "      <td>320.0</td>\n",
       "      <td>16.8</td>\n",
       "      <td>282.45</td>\n",
       "      <td>267.75</td>\n",
       "      <td>35.0</td>\n",
       "      <td>...</td>\n",
       "      <td>9</td>\n",
       "      <td>Marignane</td>\n",
       "      <td>13054</td>\n",
       "      <td>Métropole d'Aix-Marseille-Provence</td>\n",
       "      <td>200054807.0</td>\n",
       "      <td>Bouches-du-Rhône</td>\n",
       "      <td>13</td>\n",
       "      <td>Provence-Alpes-Côte d'Azur</td>\n",
       "      <td>93.0</td>\n",
       "      <td>4</td>\n",
       "    </tr>\n",
       "    <tr>\n",
       "      <th>3</th>\n",
       "      <td>7558</td>\n",
       "      <td>2021-04-06T23:00:00+02:00</td>\n",
       "      <td>101820.0</td>\n",
       "      <td>230.0</td>\n",
       "      <td>1.0</td>\n",
       "      <td>360.0</td>\n",
       "      <td>8.7</td>\n",
       "      <td>272.75</td>\n",
       "      <td>264.35</td>\n",
       "      <td>53.0</td>\n",
       "      <td>...</td>\n",
       "      <td>712</td>\n",
       "      <td>Millau</td>\n",
       "      <td>12145</td>\n",
       "      <td>CC de Millau Grands Causses</td>\n",
       "      <td>241200567.0</td>\n",
       "      <td>Aveyron</td>\n",
       "      <td>12</td>\n",
       "      <td>Occitanie</td>\n",
       "      <td>76.0</td>\n",
       "      <td>4</td>\n",
       "    </tr>\n",
       "    <tr>\n",
       "      <th>4</th>\n",
       "      <td>7591</td>\n",
       "      <td>2021-04-06T23:00:00+02:00</td>\n",
       "      <td>NaN</td>\n",
       "      <td>370.0</td>\n",
       "      <td>1.0</td>\n",
       "      <td>20.0</td>\n",
       "      <td>0.9</td>\n",
       "      <td>273.25</td>\n",
       "      <td>262.15</td>\n",
       "      <td>43.0</td>\n",
       "      <td>...</td>\n",
       "      <td>871</td>\n",
       "      <td>Embrun</td>\n",
       "      <td>05046</td>\n",
       "      <td>CC Serre-Ponçon</td>\n",
       "      <td>200067742.0</td>\n",
       "      <td>Hautes-Alpes</td>\n",
       "      <td>05</td>\n",
       "      <td>Provence-Alpes-Côte d'Azur</td>\n",
       "      <td>93.0</td>\n",
       "      <td>4</td>\n",
       "    </tr>\n",
       "  </tbody>\n",
       "</table>\n",
       "<p>5 rows × 82 columns</p>\n",
       "</div>"
      ],
      "text/plain": [
       "   ID OMM station                       Date  Pression au niveau mer  \\\n",
       "0           81401  2021-04-06T17:00:00+02:00                101160.0   \n",
       "1            7314  2021-04-06T20:00:00+02:00                102160.0   \n",
       "2            7650  2021-04-06T20:00:00+02:00                101040.0   \n",
       "3            7558  2021-04-06T23:00:00+02:00                101820.0   \n",
       "4            7591  2021-04-06T23:00:00+02:00                     NaN   \n",
       "\n",
       "   Variation de pression en 3 heures  Type de tendance barométrique  \\\n",
       "0                               40.0                            8.0   \n",
       "1                               20.0                            3.0   \n",
       "2                              160.0                            3.0   \n",
       "3                              230.0                            1.0   \n",
       "4                              370.0                            1.0   \n",
       "\n",
       "   Direction du vent moyen 10 mn  Vitesse du vent moyen 10 mn  Température  \\\n",
       "0                           60.0                          3.3       304.05   \n",
       "1                          340.0                          7.2       281.55   \n",
       "2                          320.0                         16.8       282.45   \n",
       "3                          360.0                          8.7       272.75   \n",
       "4                           20.0                          0.9       273.25   \n",
       "\n",
       "   Point de rosée  Humidité  ...  Altitude          communes (name)  \\\n",
       "0          297.95      70.0  ...         5  Saint-Laurent-du-Maroni   \n",
       "1          268.75      40.0  ...        11     Saint-Denis-d'Oléron   \n",
       "2          267.75      35.0  ...         9                Marignane   \n",
       "3          264.35      53.0  ...       712                   Millau   \n",
       "4          262.15      43.0  ...       871                   Embrun   \n",
       "\n",
       "   communes (code)                         EPCI (name)  EPCI (code)  \\\n",
       "0            97311              CC de l'Ouest Guyanais  249730037.0   \n",
       "1            17323                CC de l'Île d'Oléron  241700624.0   \n",
       "2            13054  Métropole d'Aix-Marseille-Provence  200054807.0   \n",
       "3            12145         CC de Millau Grands Causses  241200567.0   \n",
       "4            05046                     CC Serre-Ponçon  200067742.0   \n",
       "\n",
       "   department (name)  department (code)               region (name)  \\\n",
       "0             Guyane                973                      Guyane   \n",
       "1  Charente-Maritime                 17          Nouvelle-Aquitaine   \n",
       "2   Bouches-du-Rhône                 13  Provence-Alpes-Côte d'Azur   \n",
       "3            Aveyron                 12                   Occitanie   \n",
       "4       Hautes-Alpes                 05  Provence-Alpes-Côte d'Azur   \n",
       "\n",
       "   region (code)  mois_de_l_annee  \n",
       "0            3.0                4  \n",
       "1           75.0                4  \n",
       "2           93.0                4  \n",
       "3           76.0                4  \n",
       "4           93.0                4  \n",
       "\n",
       "[5 rows x 82 columns]"
      ]
     },
     "execution_count": 97,
     "metadata": {},
     "output_type": "execute_result"
    }
   ],
   "source": [
    "df.head()"
   ]
  },
  {
   "cell_type": "code",
   "execution_count": 6,
   "id": "14570db3-1feb-49a2-80aa-6fc8a584cfad",
   "metadata": {},
   "outputs": [
    {
     "data": {
      "text/plain": [
       "(171947, 82)"
      ]
     },
     "execution_count": 6,
     "metadata": {},
     "output_type": "execute_result"
    }
   ],
   "source": [
    "df.shape"
   ]
  },
  {
   "cell_type": "code",
   "execution_count": 7,
   "id": "028bf19a-7075-422b-9466-025653f4725f",
   "metadata": {
    "scrolled": true
   },
   "outputs": [],
   "source": [
    "df=df.dropna(axis=0, subset=['Température (°C)'] )"
   ]
  },
  {
   "cell_type": "code",
   "execution_count": 107,
   "id": "dce91d14-0eb0-4213-b538-5d127e4aa316",
   "metadata": {},
   "outputs": [
    {
     "data": {
      "text/html": [
       "<div>\n",
       "<style scoped>\n",
       "    .dataframe tbody tr th:only-of-type {\n",
       "        vertical-align: middle;\n",
       "    }\n",
       "\n",
       "    .dataframe tbody tr th {\n",
       "        vertical-align: top;\n",
       "    }\n",
       "\n",
       "    .dataframe thead th {\n",
       "        text-align: right;\n",
       "    }\n",
       "</style>\n",
       "<table border=\"1\" class=\"dataframe\">\n",
       "  <thead>\n",
       "    <tr style=\"text-align: right;\">\n",
       "      <th></th>\n",
       "      <th>ID OMM station</th>\n",
       "      <th>Date</th>\n",
       "      <th>Pression au niveau mer</th>\n",
       "      <th>Variation de pression en 3 heures</th>\n",
       "      <th>Type de tendance barométrique</th>\n",
       "      <th>Direction du vent moyen 10 mn</th>\n",
       "      <th>Vitesse du vent moyen 10 mn</th>\n",
       "      <th>Température</th>\n",
       "      <th>Point de rosée</th>\n",
       "      <th>Humidité</th>\n",
       "      <th>...</th>\n",
       "      <th>Altitude</th>\n",
       "      <th>communes (name)</th>\n",
       "      <th>communes (code)</th>\n",
       "      <th>EPCI (name)</th>\n",
       "      <th>EPCI (code)</th>\n",
       "      <th>department (name)</th>\n",
       "      <th>department (code)</th>\n",
       "      <th>region (name)</th>\n",
       "      <th>region (code)</th>\n",
       "      <th>mois_de_l_annee</th>\n",
       "    </tr>\n",
       "  </thead>\n",
       "  <tbody>\n",
       "    <tr>\n",
       "      <th>count</th>\n",
       "      <td>169043.000000</td>\n",
       "      <td>169043</td>\n",
       "      <td>163308.000000</td>\n",
       "      <td>168803.000000</td>\n",
       "      <td>168804.000000</td>\n",
       "      <td>168140.000000</td>\n",
       "      <td>168160.000000</td>\n",
       "      <td>169043.000000</td>\n",
       "      <td>168943.000000</td>\n",
       "      <td>168943.000000</td>\n",
       "      <td>...</td>\n",
       "      <td>169043.000000</td>\n",
       "      <td>158120</td>\n",
       "      <td>158120</td>\n",
       "      <td>143959</td>\n",
       "      <td>1.439590e+05</td>\n",
       "      <td>158120</td>\n",
       "      <td>158120</td>\n",
       "      <td>158120</td>\n",
       "      <td>158120.000000</td>\n",
       "      <td>169043.000000</td>\n",
       "    </tr>\n",
       "    <tr>\n",
       "      <th>unique</th>\n",
       "      <td>NaN</td>\n",
       "      <td>2918</td>\n",
       "      <td>NaN</td>\n",
       "      <td>NaN</td>\n",
       "      <td>NaN</td>\n",
       "      <td>NaN</td>\n",
       "      <td>NaN</td>\n",
       "      <td>NaN</td>\n",
       "      <td>NaN</td>\n",
       "      <td>NaN</td>\n",
       "      <td>...</td>\n",
       "      <td>NaN</td>\n",
       "      <td>55</td>\n",
       "      <td>55</td>\n",
       "      <td>50</td>\n",
       "      <td>NaN</td>\n",
       "      <td>49</td>\n",
       "      <td>49</td>\n",
       "      <td>21</td>\n",
       "      <td>NaN</td>\n",
       "      <td>NaN</td>\n",
       "    </tr>\n",
       "    <tr>\n",
       "      <th>top</th>\n",
       "      <td>NaN</td>\n",
       "      <td>2021-10-25T17:00:00+02:00</td>\n",
       "      <td>NaN</td>\n",
       "      <td>NaN</td>\n",
       "      <td>NaN</td>\n",
       "      <td>NaN</td>\n",
       "      <td>NaN</td>\n",
       "      <td>NaN</td>\n",
       "      <td>NaN</td>\n",
       "      <td>NaN</td>\n",
       "      <td>...</td>\n",
       "      <td>NaN</td>\n",
       "      <td>les Éparses de l'océan Indien</td>\n",
       "      <td>98415</td>\n",
       "      <td>CC de l'Ouest Guyanais</td>\n",
       "      <td>NaN</td>\n",
       "      <td>Guyane</td>\n",
       "      <td>973</td>\n",
       "      <td>Occitanie</td>\n",
       "      <td>NaN</td>\n",
       "      <td>NaN</td>\n",
       "    </tr>\n",
       "    <tr>\n",
       "      <th>freq</th>\n",
       "      <td>NaN</td>\n",
       "      <td>60</td>\n",
       "      <td>NaN</td>\n",
       "      <td>NaN</td>\n",
       "      <td>NaN</td>\n",
       "      <td>NaN</td>\n",
       "      <td>NaN</td>\n",
       "      <td>NaN</td>\n",
       "      <td>NaN</td>\n",
       "      <td>NaN</td>\n",
       "      <td>...</td>\n",
       "      <td>NaN</td>\n",
       "      <td>5545</td>\n",
       "      <td>5545</td>\n",
       "      <td>5209</td>\n",
       "      <td>NaN</td>\n",
       "      <td>10903</td>\n",
       "      <td>10903</td>\n",
       "      <td>20193</td>\n",
       "      <td>NaN</td>\n",
       "      <td>NaN</td>\n",
       "    </tr>\n",
       "    <tr>\n",
       "      <th>mean</th>\n",
       "      <td>27064.231065</td>\n",
       "      <td>NaN</td>\n",
       "      <td>101586.708673</td>\n",
       "      <td>22.385562</td>\n",
       "      <td>4.283654</td>\n",
       "      <td>172.578625</td>\n",
       "      <td>4.162985</td>\n",
       "      <td>287.943742</td>\n",
       "      <td>283.437228</td>\n",
       "      <td>76.425570</td>\n",
       "      <td>...</td>\n",
       "      <td>131.083488</td>\n",
       "      <td>NaN</td>\n",
       "      <td>NaN</td>\n",
       "      <td>NaN</td>\n",
       "      <td>2.242553e+08</td>\n",
       "      <td>NaN</td>\n",
       "      <td>NaN</td>\n",
       "      <td>NaN</td>\n",
       "      <td>132.937421</td>\n",
       "      <td>6.482611</td>\n",
       "    </tr>\n",
       "    <tr>\n",
       "      <th>std</th>\n",
       "      <td>30443.931941</td>\n",
       "      <td>NaN</td>\n",
       "      <td>870.538693</td>\n",
       "      <td>124.883990</td>\n",
       "      <td>2.716690</td>\n",
       "      <td>106.103124</td>\n",
       "      <td>3.181798</td>\n",
       "      <td>9.358606</td>\n",
       "      <td>8.941911</td>\n",
       "      <td>16.192199</td>\n",
       "      <td>...</td>\n",
       "      <td>188.839002</td>\n",
       "      <td>NaN</td>\n",
       "      <td>NaN</td>\n",
       "      <td>NaN</td>\n",
       "      <td>2.270455e+07</td>\n",
       "      <td>NaN</td>\n",
       "      <td>NaN</td>\n",
       "      <td>NaN</td>\n",
       "      <td>267.558300</td>\n",
       "      <td>3.437075</td>\n",
       "    </tr>\n",
       "    <tr>\n",
       "      <th>min</th>\n",
       "      <td>7005.000000</td>\n",
       "      <td>NaN</td>\n",
       "      <td>95040.000000</td>\n",
       "      <td>-1630.000000</td>\n",
       "      <td>0.000000</td>\n",
       "      <td>0.000000</td>\n",
       "      <td>0.000000</td>\n",
       "      <td>240.950000</td>\n",
       "      <td>236.750000</td>\n",
       "      <td>7.000000</td>\n",
       "      <td>...</td>\n",
       "      <td>2.000000</td>\n",
       "      <td>NaN</td>\n",
       "      <td>NaN</td>\n",
       "      <td>NaN</td>\n",
       "      <td>2.000187e+08</td>\n",
       "      <td>NaN</td>\n",
       "      <td>NaN</td>\n",
       "      <td>NaN</td>\n",
       "      <td>1.000000</td>\n",
       "      <td>1.000000</td>\n",
       "    </tr>\n",
       "    <tr>\n",
       "      <th>25%</th>\n",
       "      <td>7207.000000</td>\n",
       "      <td>NaN</td>\n",
       "      <td>101190.000000</td>\n",
       "      <td>-50.000000</td>\n",
       "      <td>2.000000</td>\n",
       "      <td>80.000000</td>\n",
       "      <td>1.900000</td>\n",
       "      <td>281.150000</td>\n",
       "      <td>277.250000</td>\n",
       "      <td>66.000000</td>\n",
       "      <td>...</td>\n",
       "      <td>11.000000</td>\n",
       "      <td>NaN</td>\n",
       "      <td>NaN</td>\n",
       "      <td>NaN</td>\n",
       "      <td>2.000661e+08</td>\n",
       "      <td>NaN</td>\n",
       "      <td>NaN</td>\n",
       "      <td>NaN</td>\n",
       "      <td>28.000000</td>\n",
       "      <td>4.000000</td>\n",
       "    </tr>\n",
       "    <tr>\n",
       "      <th>50%</th>\n",
       "      <td>7577.000000</td>\n",
       "      <td>NaN</td>\n",
       "      <td>101620.000000</td>\n",
       "      <td>20.000000</td>\n",
       "      <td>3.000000</td>\n",
       "      <td>170.000000</td>\n",
       "      <td>3.400000</td>\n",
       "      <td>287.650000</td>\n",
       "      <td>283.250000</td>\n",
       "      <td>79.000000</td>\n",
       "      <td>...</td>\n",
       "      <td>55.000000</td>\n",
       "      <td>NaN</td>\n",
       "      <td>NaN</td>\n",
       "      <td>NaN</td>\n",
       "      <td>2.417006e+08</td>\n",
       "      <td>NaN</td>\n",
       "      <td>NaN</td>\n",
       "      <td>NaN</td>\n",
       "      <td>53.000000</td>\n",
       "      <td>6.000000</td>\n",
       "    </tr>\n",
       "    <tr>\n",
       "      <th>75%</th>\n",
       "      <td>61980.000000</td>\n",
       "      <td>NaN</td>\n",
       "      <td>102120.000000</td>\n",
       "      <td>100.000000</td>\n",
       "      <td>7.000000</td>\n",
       "      <td>260.000000</td>\n",
       "      <td>5.700000</td>\n",
       "      <td>296.250000</td>\n",
       "      <td>289.950000</td>\n",
       "      <td>90.000000</td>\n",
       "      <td>...</td>\n",
       "      <td>151.000000</td>\n",
       "      <td>NaN</td>\n",
       "      <td>NaN</td>\n",
       "      <td>NaN</td>\n",
       "      <td>2.454005e+08</td>\n",
       "      <td>NaN</td>\n",
       "      <td>NaN</td>\n",
       "      <td>NaN</td>\n",
       "      <td>84.000000</td>\n",
       "      <td>9.000000</td>\n",
       "    </tr>\n",
       "    <tr>\n",
       "      <th>max</th>\n",
       "      <td>89642.000000</td>\n",
       "      <td>NaN</td>\n",
       "      <td>107570.000000</td>\n",
       "      <td>1940.000000</td>\n",
       "      <td>8.000000</td>\n",
       "      <td>360.000000</td>\n",
       "      <td>32.900000</td>\n",
       "      <td>332.850000</td>\n",
       "      <td>332.450000</td>\n",
       "      <td>100.000000</td>\n",
       "      <td>...</td>\n",
       "      <td>871.000000</td>\n",
       "      <td>NaN</td>\n",
       "      <td>NaN</td>\n",
       "      <td>NaN</td>\n",
       "      <td>2.497401e+08</td>\n",
       "      <td>NaN</td>\n",
       "      <td>NaN</td>\n",
       "      <td>NaN</td>\n",
       "      <td>984.000000</td>\n",
       "      <td>12.000000</td>\n",
       "    </tr>\n",
       "  </tbody>\n",
       "</table>\n",
       "<p>11 rows × 82 columns</p>\n",
       "</div>"
      ],
      "text/plain": [
       "        ID OMM station                       Date  Pression au niveau mer  \\\n",
       "count    169043.000000                     169043           163308.000000   \n",
       "unique             NaN                       2918                     NaN   \n",
       "top                NaN  2021-10-25T17:00:00+02:00                     NaN   \n",
       "freq               NaN                         60                     NaN   \n",
       "mean      27064.231065                        NaN           101586.708673   \n",
       "std       30443.931941                        NaN              870.538693   \n",
       "min        7005.000000                        NaN            95040.000000   \n",
       "25%        7207.000000                        NaN           101190.000000   \n",
       "50%        7577.000000                        NaN           101620.000000   \n",
       "75%       61980.000000                        NaN           102120.000000   \n",
       "max       89642.000000                        NaN           107570.000000   \n",
       "\n",
       "        Variation de pression en 3 heures  Type de tendance barométrique  \\\n",
       "count                       168803.000000                  168804.000000   \n",
       "unique                                NaN                            NaN   \n",
       "top                                   NaN                            NaN   \n",
       "freq                                  NaN                            NaN   \n",
       "mean                            22.385562                       4.283654   \n",
       "std                            124.883990                       2.716690   \n",
       "min                          -1630.000000                       0.000000   \n",
       "25%                            -50.000000                       2.000000   \n",
       "50%                             20.000000                       3.000000   \n",
       "75%                            100.000000                       7.000000   \n",
       "max                           1940.000000                       8.000000   \n",
       "\n",
       "        Direction du vent moyen 10 mn  Vitesse du vent moyen 10 mn  \\\n",
       "count                   168140.000000                168160.000000   \n",
       "unique                            NaN                          NaN   \n",
       "top                               NaN                          NaN   \n",
       "freq                              NaN                          NaN   \n",
       "mean                       172.578625                     4.162985   \n",
       "std                        106.103124                     3.181798   \n",
       "min                          0.000000                     0.000000   \n",
       "25%                         80.000000                     1.900000   \n",
       "50%                        170.000000                     3.400000   \n",
       "75%                        260.000000                     5.700000   \n",
       "max                        360.000000                    32.900000   \n",
       "\n",
       "          Température  Point de rosée       Humidité  ...       Altitude  \\\n",
       "count   169043.000000   168943.000000  168943.000000  ...  169043.000000   \n",
       "unique            NaN             NaN            NaN  ...            NaN   \n",
       "top               NaN             NaN            NaN  ...            NaN   \n",
       "freq              NaN             NaN            NaN  ...            NaN   \n",
       "mean       287.943742      283.437228      76.425570  ...     131.083488   \n",
       "std          9.358606        8.941911      16.192199  ...     188.839002   \n",
       "min        240.950000      236.750000       7.000000  ...       2.000000   \n",
       "25%        281.150000      277.250000      66.000000  ...      11.000000   \n",
       "50%        287.650000      283.250000      79.000000  ...      55.000000   \n",
       "75%        296.250000      289.950000      90.000000  ...     151.000000   \n",
       "max        332.850000      332.450000     100.000000  ...     871.000000   \n",
       "\n",
       "                      communes (name)  communes (code)  \\\n",
       "count                          158120           158120   \n",
       "unique                             55               55   \n",
       "top     les Éparses de l'océan Indien            98415   \n",
       "freq                             5545             5545   \n",
       "mean                              NaN              NaN   \n",
       "std                               NaN              NaN   \n",
       "min                               NaN              NaN   \n",
       "25%                               NaN              NaN   \n",
       "50%                               NaN              NaN   \n",
       "75%                               NaN              NaN   \n",
       "max                               NaN              NaN   \n",
       "\n",
       "                   EPCI (name)   EPCI (code)  department (name)  \\\n",
       "count                   143959  1.439590e+05             158120   \n",
       "unique                      50           NaN                 49   \n",
       "top     CC de l'Ouest Guyanais           NaN             Guyane   \n",
       "freq                      5209           NaN              10903   \n",
       "mean                       NaN  2.242553e+08                NaN   \n",
       "std                        NaN  2.270455e+07                NaN   \n",
       "min                        NaN  2.000187e+08                NaN   \n",
       "25%                        NaN  2.000661e+08                NaN   \n",
       "50%                        NaN  2.417006e+08                NaN   \n",
       "75%                        NaN  2.454005e+08                NaN   \n",
       "max                        NaN  2.497401e+08                NaN   \n",
       "\n",
       "        department (code)  region (name)  region (code)  mois_de_l_annee  \n",
       "count              158120         158120  158120.000000    169043.000000  \n",
       "unique                 49             21            NaN              NaN  \n",
       "top                   973      Occitanie            NaN              NaN  \n",
       "freq                10903          20193            NaN              NaN  \n",
       "mean                  NaN            NaN     132.937421         6.482611  \n",
       "std                   NaN            NaN     267.558300         3.437075  \n",
       "min                   NaN            NaN       1.000000         1.000000  \n",
       "25%                   NaN            NaN      28.000000         4.000000  \n",
       "50%                   NaN            NaN      53.000000         6.000000  \n",
       "75%                   NaN            NaN      84.000000         9.000000  \n",
       "max                   NaN            NaN     984.000000        12.000000  \n",
       "\n",
       "[11 rows x 82 columns]"
      ]
     },
     "execution_count": 107,
     "metadata": {},
     "output_type": "execute_result"
    }
   ],
   "source": [
    "df.describe(include='all')"
   ]
  },
  {
   "cell_type": "code",
   "execution_count": null,
   "id": "bad496ae-4dbb-45bd-bcce-c951d46469fd",
   "metadata": {},
   "outputs": [],
   "source": [
    "df.iloc[:, 0:7].describe(include='all')"
   ]
  },
  {
   "cell_type": "code",
   "execution_count": null,
   "id": "c81acfce-a388-4486-85f3-93282c3d3c14",
   "metadata": {},
   "outputs": [],
   "source": [
    "df.iloc[:, 8:16].describe(include='all')"
   ]
  },
  {
   "cell_type": "code",
   "execution_count": null,
   "id": "013a6f51-0188-4b7c-b62e-fd0437a17bcb",
   "metadata": {},
   "outputs": [],
   "source": [
    "df.iloc[:, 17:25].describe(include='all')"
   ]
  },
  {
   "cell_type": "code",
   "execution_count": null,
   "id": "5976dc27-7ac9-4536-9640-37d96e419716",
   "metadata": {},
   "outputs": [],
   "source": [
    "df.iloc[:, 26:34].describe(include='all')"
   ]
  },
  {
   "cell_type": "code",
   "execution_count": null,
   "id": "5c7424a5-f0e3-4535-87c1-ab3e890f4b52",
   "metadata": {},
   "outputs": [],
   "source": [
    "df.iloc[:, 35:42].describe(include='all')"
   ]
  },
  {
   "cell_type": "code",
   "execution_count": null,
   "id": "c922a052-1056-4dd9-ad0c-41c483cde366",
   "metadata": {},
   "outputs": [],
   "source": [
    "df.iloc[:, 43:51].describe(include='all')"
   ]
  },
  {
   "cell_type": "code",
   "execution_count": null,
   "id": "1bbe4a3b-c403-403c-a7f5-ab294599a7d6",
   "metadata": {
    "scrolled": true
   },
   "outputs": [],
   "source": [
    "df.iloc[:, 52:60].describe(include='all')"
   ]
  },
  {
   "cell_type": "code",
   "execution_count": null,
   "id": "283fd63b-cb3e-41ae-a5a7-60afd8675b5f",
   "metadata": {},
   "outputs": [],
   "source": [
    "df.iloc[:, 61:69].describe(include='all')"
   ]
  },
  {
   "cell_type": "code",
   "execution_count": null,
   "id": "928c8c0c-2181-44de-9be1-14922940c930",
   "metadata": {},
   "outputs": [],
   "source": [
    "df.iloc[:, 70:78].describe(include='all')"
   ]
  },
  {
   "cell_type": "code",
   "execution_count": null,
   "id": "713928c8-0e18-478d-bf96-af2bd74d3e41",
   "metadata": {},
   "outputs": [],
   "source": [
    "df.iloc[:, 79:82].describe(include='all')"
   ]
  },
  {
   "cell_type": "code",
   "execution_count": null,
   "id": "0d9873e1-a74c-4f4c-a65b-db3c845894cd",
   "metadata": {},
   "outputs": [],
   "source": []
  },
  {
   "cell_type": "code",
   "execution_count": 5,
   "id": "6ccdac12-cea4-486e-b73f-0d61d6ce6537",
   "metadata": {},
   "outputs": [],
   "source": [
    "df['Date'] = pd.to_datetime(df['Date'], utc=True)"
   ]
  },
  {
   "cell_type": "code",
   "execution_count": 9,
   "id": "3425414d-175a-478c-ae40-aa4bd9e29109",
   "metadata": {},
   "outputs": [
    {
     "data": {
      "text/plain": [
       "0   2021-04-06 15:00:00+00:00\n",
       "1   2021-04-06 18:00:00+00:00\n",
       "2   2021-04-06 18:00:00+00:00\n",
       "3   2021-04-06 21:00:00+00:00\n",
       "4   2021-04-06 21:00:00+00:00\n",
       "Name: Date, dtype: datetime64[ns, UTC]"
      ]
     },
     "execution_count": 9,
     "metadata": {},
     "output_type": "execute_result"
    }
   ],
   "source": [
    "df['Date'].head()"
   ]
  },
  {
   "cell_type": "markdown",
   "id": "01e8eb3a-df35-49af-a73f-032c5f0c550d",
   "metadata": {},
   "source": [
    "## Model Predictif "
   ]
  },
  {
   "cell_type": "markdown",
   "id": "42db1637-dc5f-4062-91a8-56d5734736fb",
   "metadata": {},
   "source": [
    "Visualisation seaborn pour la correlation des variables "
   ]
  },
  {
   "cell_type": "code",
   "execution_count": null,
   "id": "8f848522-ae67-4973-902f-f7218c2b08b2",
   "metadata": {},
   "outputs": [],
   "source": [
    "from sklearn.model_selection import train_test_split\n",
    "from sklearn.linear_model import LinearRegression\n",
    "from sklearn.metrics import mean_squared_error\n",
    "\n",
    "# Diviser les données en ensembles d'entraînement et de test\n",
    "X_train, X_test, y_train, y_test = train_test_split(features, target, test_size=0.2, random_state=42)\n",
    "\n",
    "# Entraîner le modèle de régression linéaire\n",
    "model = LinearRegression()\n",
    "model.fit(X_train, y_train)\n",
    "\n",
    "# Faire des prédictions sur l'ensemble de test\n",
    "predictions = model.predict(X_test)\n",
    "\n",
    "# Évaluer les performances du modèle\n",
    "mse = mean_squared_error(y_test, predictions)\n",
    "print(\"Mean Squared Error:\", mse)\n"
   ]
  },
  {
   "cell_type": "code",
   "execution_count": 110,
   "id": "a139f403-fb7d-44e4-81aa-392232a853bb",
   "metadata": {},
   "outputs": [
    {
     "name": "stdout",
     "output_type": "stream",
     "text": [
      "Requirement already satisfied: matplotlib in /opt/conda/lib/python3.11/site-packages (3.8.4)\n",
      "Requirement already satisfied: contourpy>=1.0.1 in /opt/conda/lib/python3.11/site-packages (from matplotlib) (1.2.1)\n",
      "Requirement already satisfied: cycler>=0.10 in /opt/conda/lib/python3.11/site-packages (from matplotlib) (0.12.1)\n",
      "Requirement already satisfied: fonttools>=4.22.0 in /opt/conda/lib/python3.11/site-packages (from matplotlib) (4.51.0)\n",
      "Requirement already satisfied: kiwisolver>=1.3.1 in /opt/conda/lib/python3.11/site-packages (from matplotlib) (1.4.5)\n",
      "Requirement already satisfied: numpy>=1.21 in /opt/conda/lib/python3.11/site-packages (from matplotlib) (1.26.4)\n",
      "Requirement already satisfied: packaging>=20.0 in /opt/conda/lib/python3.11/site-packages (from matplotlib) (23.2)\n",
      "Requirement already satisfied: pillow>=8 in /opt/conda/lib/python3.11/site-packages (from matplotlib) (10.3.0)\n",
      "Requirement already satisfied: pyparsing>=2.3.1 in /opt/conda/lib/python3.11/site-packages (from matplotlib) (3.1.2)\n",
      "Requirement already satisfied: python-dateutil>=2.7 in /opt/conda/lib/python3.11/site-packages (from matplotlib) (2.8.2)\n",
      "Requirement already satisfied: six>=1.5 in /opt/conda/lib/python3.11/site-packages (from python-dateutil>=2.7->matplotlib) (1.16.0)\n"
     ]
    }
   ],
   "source": [
    "!pip install matplotlib\n",
    "\n"
   ]
  },
  {
   "cell_type": "code",
   "execution_count": 111,
   "id": "37b454c1-7c51-4a2c-bce9-ff04a138e8b2",
   "metadata": {},
   "outputs": [
    {
     "name": "stdout",
     "output_type": "stream",
     "text": [
      "Requirement already satisfied: seaborn in /opt/conda/lib/python3.11/site-packages (0.13.2)\n",
      "Requirement already satisfied: numpy!=1.24.0,>=1.20 in /opt/conda/lib/python3.11/site-packages (from seaborn) (1.26.4)\n",
      "Requirement already satisfied: pandas>=1.2 in /opt/conda/lib/python3.11/site-packages (from seaborn) (2.2.2)\n",
      "Requirement already satisfied: matplotlib!=3.6.1,>=3.4 in /opt/conda/lib/python3.11/site-packages (from seaborn) (3.8.4)\n",
      "Requirement already satisfied: contourpy>=1.0.1 in /opt/conda/lib/python3.11/site-packages (from matplotlib!=3.6.1,>=3.4->seaborn) (1.2.1)\n",
      "Requirement already satisfied: cycler>=0.10 in /opt/conda/lib/python3.11/site-packages (from matplotlib!=3.6.1,>=3.4->seaborn) (0.12.1)\n",
      "Requirement already satisfied: fonttools>=4.22.0 in /opt/conda/lib/python3.11/site-packages (from matplotlib!=3.6.1,>=3.4->seaborn) (4.51.0)\n",
      "Requirement already satisfied: kiwisolver>=1.3.1 in /opt/conda/lib/python3.11/site-packages (from matplotlib!=3.6.1,>=3.4->seaborn) (1.4.5)\n",
      "Requirement already satisfied: packaging>=20.0 in /opt/conda/lib/python3.11/site-packages (from matplotlib!=3.6.1,>=3.4->seaborn) (23.2)\n",
      "Requirement already satisfied: pillow>=8 in /opt/conda/lib/python3.11/site-packages (from matplotlib!=3.6.1,>=3.4->seaborn) (10.3.0)\n",
      "Requirement already satisfied: pyparsing>=2.3.1 in /opt/conda/lib/python3.11/site-packages (from matplotlib!=3.6.1,>=3.4->seaborn) (3.1.2)\n",
      "Requirement already satisfied: python-dateutil>=2.7 in /opt/conda/lib/python3.11/site-packages (from matplotlib!=3.6.1,>=3.4->seaborn) (2.8.2)\n",
      "Requirement already satisfied: pytz>=2020.1 in /opt/conda/lib/python3.11/site-packages (from pandas>=1.2->seaborn) (2023.3.post1)\n",
      "Requirement already satisfied: tzdata>=2022.7 in /opt/conda/lib/python3.11/site-packages (from pandas>=1.2->seaborn) (2024.1)\n",
      "Requirement already satisfied: six>=1.5 in /opt/conda/lib/python3.11/site-packages (from python-dateutil>=2.7->matplotlib!=3.6.1,>=3.4->seaborn) (1.16.0)\n"
     ]
    }
   ],
   "source": [
    "!pip install seaborn"
   ]
  },
  {
   "cell_type": "code",
   "execution_count": 6,
   "id": "50dbada8-6e97-4805-942b-53beea8e622c",
   "metadata": {},
   "outputs": [],
   "source": [
    "import matplotlib.pyplot as plt \n",
    "import seaborn as sns"
   ]
  },
  {
   "cell_type": "code",
   "execution_count": null,
   "id": "7af433e6-0ad4-46b3-8e2e-c8aaa2596edb",
   "metadata": {},
   "outputs": [],
   "source": [
    "# sns.pairplot(df)\n",
    "# plt.show()"
   ]
  },
  {
   "cell_type": "code",
   "execution_count": null,
   "id": "644024b8-8a62-4814-8ebe-772447a01c42",
   "metadata": {},
   "outputs": [],
   "source": [
    "!pip install scipy"
   ]
  },
  {
   "cell_type": "code",
   "execution_count": 7,
   "id": "471c5fd8-41a9-4c29-a6fe-09d554ac7400",
   "metadata": {},
   "outputs": [],
   "source": [
    "\n",
    "from scipy.stats import pearsonr"
   ]
  },
  {
   "cell_type": "markdown",
   "id": "6431415d-3e69-44a4-9835-bf883753e313",
   "metadata": {},
   "source": [
    "## Heatmap"
   ]
  },
  {
   "cell_type": "code",
   "execution_count": 47,
   "id": "c7ec0bd5-3e50-4fcc-a242-35ff00ce5f94",
   "metadata": {},
   "outputs": [
    {
     "data": {
      "image/png": "[encoded data removed]",
      "text/plain": [
       "<Figure size 640x480 with 2 Axes>"
      ]
     },
     "metadata": {},
     "output_type": "display_data"
    }
   ],
   "source": [
    "corr = df.corr()\n",
    "sns.heatmap(corr, annot=True, cmap='coolwarm')\n",
    "plt.show()"
   ]
  },
  {
   "cell_type": "code",
   "execution_count": null,
   "id": "870d1681-702c-402e-a08e-64b4b6805a80",
   "metadata": {},
   "outputs": [],
   "source": []
  },
  {
   "cell_type": "code",
   "execution_count": null,
   "id": "b100e181-1bd2-4ef4-9628-a06218068195",
   "metadata": {},
   "outputs": [],
   "source": []
  },
  {
   "cell_type": "code",
   "execution_count": null,
   "id": "acbc0c4e-1214-4720-b57a-c3f8d45eed9b",
   "metadata": {},
   "outputs": [],
   "source": [
    "df = pd.read_csv('/home/jovyan/work/donnees-synop.csv', sep=';', encoding='utf-8')"
   ]
  },
  {
   "cell_type": "code",
   "execution_count": null,
   "id": "cf2f4f9d-c1be-4972-89d9-0d3fa19b185b",
   "metadata": {},
   "outputs": [],
   "source": [
    "# Calculer la corrélation entre chaque variable et la température\n",
    "correlation_with_temperature = df.corr()['Température (°C)']\n",
    "\n",
    "# Créer un DataFrame à partir des corrélations\n",
    "correlation_df = pd.DataFrame(correlation_with_temperature)\n",
    "correlation_df.reset_index(inplace=True)\n",
    "correlation_df.columns = ['Variable', 'Correlation with Temperature']\n",
    "\n",
    "# Tracer un graphique de barres des corrélations\n",
    "plt.figure(figsize=(12, 6))\n",
    "sns.barplot(data=correlation_df, x='Correlation with Temperature', y='Variable', color='skyblue')\n",
    "plt.title('Corrélation avec la Température (°C)')\n",
    "plt.xlabel('Corrélation')\n",
    "plt.ylabel('Variable')\n",
    "plt.show()"
   ]
  },
  {
   "cell_type": "code",
   "execution_count": null,
   "id": "b35c1169-5a04-4f40-a649-5ebfb403daff",
   "metadata": {},
   "outputs": [],
   "source": [
    "type(df['Température (°C)']) "
   ]
  },
  {
   "cell_type": "code",
   "execution_count": null,
   "id": "cbf1b4bd-af03-4c68-9e6a-47978f812d1a",
   "metadata": {},
   "outputs": [],
   "source": [
    "df['Température (°C)'].dtype"
   ]
  },
  {
   "cell_type": "code",
   "execution_count": null,
   "id": "f083db7d-e337-4309-b321-d09430d73208",
   "metadata": {},
   "outputs": [],
   "source": [
    "df = pd.read_csv('/home/jovyan/work/donnees-synop.csv', sep=';', encoding='utf-8')"
   ]
  },
  {
   "cell_type": "code",
   "execution_count": null,
   "id": "6ee3d54a-393c-48e1-9f23-319686cbf26f",
   "metadata": {},
   "outputs": [],
   "source": [
    "df['Date'] = pd.to_datetime(df['Date'], utc=True)"
   ]
  },
  {
   "cell_type": "code",
   "execution_count": null,
   "id": "f926a66b-f36f-4705-bb7e-4ab470355ae9",
   "metadata": {},
   "outputs": [],
   "source": [
    "import numpy as np\n",
    "from scipy.stats import pearsonr"
   ]
  },
  {
   "cell_type": "code",
   "execution_count": 16,
   "id": "2e5ed55f-4553-4bfb-9e2e-29ce2831b36d",
   "metadata": {},
   "outputs": [
    {
     "data": {
      "text/html": [
       "<div>\n",
       "<style scoped>\n",
       "    .dataframe tbody tr th:only-of-type {\n",
       "        vertical-align: middle;\n",
       "    }\n",
       "\n",
       "    .dataframe tbody tr th {\n",
       "        vertical-align: top;\n",
       "    }\n",
       "\n",
       "    .dataframe thead th {\n",
       "        text-align: right;\n",
       "    }\n",
       "</style>\n",
       "<table border=\"1\" class=\"dataframe\">\n",
       "  <thead>\n",
       "    <tr style=\"text-align: right;\">\n",
       "      <th></th>\n",
       "      <th>ID OMM station</th>\n",
       "      <th>Température</th>\n",
       "      <th>Température (°C)</th>\n",
       "      <th>Latitude</th>\n",
       "      <th>Longitude</th>\n",
       "      <th>Altitude</th>\n",
       "    </tr>\n",
       "  </thead>\n",
       "  <tbody>\n",
       "    <tr>\n",
       "      <th>0</th>\n",
       "      <td>81401</td>\n",
       "      <td>304.05</td>\n",
       "      <td>30.9</td>\n",
       "      <td>5.485500</td>\n",
       "      <td>-54.031667</td>\n",
       "      <td>5</td>\n",
       "    </tr>\n",
       "    <tr>\n",
       "      <th>1</th>\n",
       "      <td>7314</td>\n",
       "      <td>281.55</td>\n",
       "      <td>8.4</td>\n",
       "      <td>46.046833</td>\n",
       "      <td>-1.411500</td>\n",
       "      <td>11</td>\n",
       "    </tr>\n",
       "    <tr>\n",
       "      <th>2</th>\n",
       "      <td>7650</td>\n",
       "      <td>282.45</td>\n",
       "      <td>9.3</td>\n",
       "      <td>43.437667</td>\n",
       "      <td>5.216000</td>\n",
       "      <td>9</td>\n",
       "    </tr>\n",
       "    <tr>\n",
       "      <th>3</th>\n",
       "      <td>7558</td>\n",
       "      <td>272.75</td>\n",
       "      <td>-0.4</td>\n",
       "      <td>44.118500</td>\n",
       "      <td>3.019500</td>\n",
       "      <td>712</td>\n",
       "    </tr>\n",
       "    <tr>\n",
       "      <th>4</th>\n",
       "      <td>7591</td>\n",
       "      <td>273.25</td>\n",
       "      <td>0.1</td>\n",
       "      <td>44.565667</td>\n",
       "      <td>6.502333</td>\n",
       "      <td>871</td>\n",
       "    </tr>\n",
       "    <tr>\n",
       "      <th>...</th>\n",
       "      <td>...</td>\n",
       "      <td>...</td>\n",
       "      <td>...</td>\n",
       "      <td>...</td>\n",
       "      <td>...</td>\n",
       "      <td>...</td>\n",
       "    </tr>\n",
       "    <tr>\n",
       "      <th>171942</th>\n",
       "      <td>61968</td>\n",
       "      <td>294.95</td>\n",
       "      <td>21.8</td>\n",
       "      <td>-11.582667</td>\n",
       "      <td>47.289667</td>\n",
       "      <td>3</td>\n",
       "    </tr>\n",
       "    <tr>\n",
       "      <th>171943</th>\n",
       "      <td>7005</td>\n",
       "      <td>290.25</td>\n",
       "      <td>17.1</td>\n",
       "      <td>50.136000</td>\n",
       "      <td>1.834000</td>\n",
       "      <td>69</td>\n",
       "    </tr>\n",
       "    <tr>\n",
       "      <th>171944</th>\n",
       "      <td>7130</td>\n",
       "      <td>288.35</td>\n",
       "      <td>15.2</td>\n",
       "      <td>48.068833</td>\n",
       "      <td>-1.734000</td>\n",
       "      <td>36</td>\n",
       "    </tr>\n",
       "    <tr>\n",
       "      <th>171945</th>\n",
       "      <td>7280</td>\n",
       "      <td>290.85</td>\n",
       "      <td>17.7</td>\n",
       "      <td>47.267833</td>\n",
       "      <td>5.088333</td>\n",
       "      <td>219</td>\n",
       "    </tr>\n",
       "    <tr>\n",
       "      <th>171946</th>\n",
       "      <td>7168</td>\n",
       "      <td>286.35</td>\n",
       "      <td>13.2</td>\n",
       "      <td>48.324667</td>\n",
       "      <td>4.020000</td>\n",
       "      <td>112</td>\n",
       "    </tr>\n",
       "  </tbody>\n",
       "</table>\n",
       "<p>169043 rows × 6 columns</p>\n",
       "</div>"
      ],
      "text/plain": [
       "        ID OMM station  Température  Température (°C)   Latitude  Longitude  \\\n",
       "0                81401       304.05              30.9   5.485500 -54.031667   \n",
       "1                 7314       281.55               8.4  46.046833  -1.411500   \n",
       "2                 7650       282.45               9.3  43.437667   5.216000   \n",
       "3                 7558       272.75              -0.4  44.118500   3.019500   \n",
       "4                 7591       273.25               0.1  44.565667   6.502333   \n",
       "...                ...          ...               ...        ...        ...   \n",
       "171942           61968       294.95              21.8 -11.582667  47.289667   \n",
       "171943            7005       290.25              17.1  50.136000   1.834000   \n",
       "171944            7130       288.35              15.2  48.068833  -1.734000   \n",
       "171945            7280       290.85              17.7  47.267833   5.088333   \n",
       "171946            7168       286.35              13.2  48.324667   4.020000   \n",
       "\n",
       "        Altitude  \n",
       "0              5  \n",
       "1             11  \n",
       "2              9  \n",
       "3            712  \n",
       "4            871  \n",
       "...          ...  \n",
       "171942         3  \n",
       "171943        69  \n",
       "171944        36  \n",
       "171945       219  \n",
       "171946       112  \n",
       "\n",
       "[169043 rows x 6 columns]"
      ]
     },
     "execution_count": 16,
     "metadata": {},
     "output_type": "execute_result"
    }
   ],
   "source": [
    "df_numerique"
   ]
  },
  {
   "cell_type": "code",
   "execution_count": null,
   "id": "f008f8dd-b2e8-4adc-8ad8-b7230740b054",
   "metadata": {},
   "outputs": [],
   "source": [
    "# Sélectionner les colonnes numériques dans le DataFrame\n",
    "colonnes_numeriques = df.select_dtypes(include=['float64', 'int64']).columns\n",
    "colonnes_numeriques = df[colonnes_numeriques]"
   ]
  },
  {
   "cell_type": "code",
   "execution_count": null,
   "id": "ec87ddd3-1791-432f-a5be-4c4c1891c893",
   "metadata": {},
   "outputs": [],
   "source": [
    "# Variables qualitatives à éliminer\n",
    "colonnes_qualitatives = ['Niveau barométrique','Coordonnees', 'Nom', 'Type de tendance barométrique', 'Temps passé 1', 'Temps présent',\n",
    "                         'communes (name)', 'communes (code)', 'EPCI (name)', 'EPCI (code)', 'department (name)',\n",
    "                         'department (code)', 'region (name)', 'region (code)', 'mois_de_l_annee']\n",
    "\n",
    "\n",
    "# Éliminer les variables qualitatives\n",
    "df_numerique = df.drop(columns=colonnes_qualitatives)\n",
    "\n",
    "\n",
    "# Supprimer les lignes contenant des valeurs NaN\n",
    "df_numerique = df_numerique.dropna()\n",
    "\n",
    "# Supprimer les lignes contenant des valeurs infinies\n",
    "df_numerique = df_numerique.replace([np.inf, -np.inf], np.nan).dropna()\n",
    "\n",
    "# Calculer les corrélations et les p-values pour chaque paire de colonnes\n",
    "resultats_correlation = pd.DataFrame(columns=['Variable', 'Corrélation avec Température (°C)', 'p-value'])\n",
    "for colonne in df_numerique.columns:\n",
    "    if colonne != 'Température (°C)':  # Exclure la colonne 'Température (°C)'\n",
    "        correlation, p_value = pearsonr(df_numerique[colonne], df['Température (°C)'])\n",
    "        resultats_correlation = resultats_correlation.append({'Variable': colonne, 'Corrélation avec Température (°C)': correlation, 'p-value': p_value}, ignore_index=True)\n",
    "\n",
    "# Afficher les résultats\n",
    "print(resultats_correlation)\n"
   ]
  },
  {
   "cell_type": "code",
   "execution_count": null,
   "id": "70d0d302-3e8a-4961-bbd2-36425fcd5945",
   "metadata": {},
   "outputs": [],
   "source": [
    "import numpy as np\n",
    "from scipy.stats import pearsonr\n",
    "import pandas as pd"
   ]
  },
  {
   "cell_type": "code",
   "execution_count": null,
   "id": "9d245266-bfd5-4b4d-b1fc-1eb922fbc03f",
   "metadata": {},
   "outputs": [],
   "source": [
    "\n",
    "\n",
    "\n",
    "\n",
    "# Colonnes qualitatives à exclure\n",
    "colonnes_qualitatives = ['ID OMM station', 'Date','Niveau barométrique', 'Coordonnees', 'Nom', 'Type de tendance barométrique', \n",
    "                        'Temps passé 1','Temps passé 2', 'Temps présent', 'communes (name)', 'communes (code)', 'EPCI (name)', \n",
    "                        'EPCI (code)', 'department (name)', 'Phénomène spécial 1', 'Phénomène spécial 2', \n",
    "                        'Phénomène spécial 3', 'Phénomène spécial 4', 'department (code)', 'region (name)', \n",
    "                        'region (code)', 'mois_de_l_annee', 'Méthode de mesure Température du thermomètre mouillé', \n",
    "                        'Température du thermomètre mouillé', 'Type de tendance barométrique.1', 'Temps passé 1.1', \n",
    "                        'Temps présent.1', 'Hauteur de base 4', 'Type nuage 4', 'Type nuage 3', 'Type nuage 2', 'Type nuage 3' ]\n",
    "\n",
    "# Exclure les colonnes qualitatives du DataFrame\n",
    "df_numerique = df.drop(columns=colonnes_qualitatives)\n",
    "\n",
    "# Exclure les valeurs infinies et NaN\n",
    "mask = np.isfinite(df_numerique) & np.isfinite(df['Température (°C)'])\n",
    "\n",
    "# Calculer les corrélations et les p-values pour chaque paire de colonnes\n",
    "resultats_correlation = pd.DataFrame(columns=['Variable', 'Corrélation avec Température (°C)', 'p-value'])\n",
    "for colonne in df_numerique.columns:\n",
    "    if colonne != 'Température (°C)':  # Exclure la colonne 'Température (°C)'\n",
    "        correlation, p_value = pearsonr(df_numerique[colonne][mask[colonne]], df['Température (°C)'][mask[colonne]])\n",
    "        resultats_correlation = resultats_correlation.append({'Variable': colonne, 'Corrélation avec Température (°C)': correlation, 'p-value': p_value}, ignore_index=True)\n",
    "\n",
    "# Afficher les résultats\n",
    "print(resultats_correlation)\n"
   ]
  },
  {
   "cell_type": "code",
   "execution_count": null,
   "id": "555856f9-d72e-4ec0-8ede-59e33ce42361",
   "metadata": {},
   "outputs": [],
   "source": [
    "# colonnes_qualitatives = ['ID OMM station', 'Date','Niveau barométrique', 'Coordonnees', 'Nom', 'Type de tendance barométrique', \n",
    "#                        'Temps passé 1','Temps passé 2', 'Temps présent', 'communes (name)', 'communes (code)', 'EPCI (name)', \n",
    "#                       'EPCI (code)', 'department (name)', 'Phénomène spécial 1', 'Phénomène spécial 2', \n",
    "#                        'Phénomène spécial 3', 'Phénomène spécial 4', 'department (code)', 'region (name)', \n",
    "#                        'region (code)', 'mois_de_l_annee', 'Méthode de mesure Température du thermomètre mouillé', \n",
    "#                       'Température du thermomètre mouillé', 'Type de tendance barométrique.1', 'Temps passé 1.1', \n",
    "#                       'Temps présent.1', 'Hauteur de base 4', 'Type nuage 4', 'Type nuage 3', 'Type nuage 2', 'Type nuage 3' ]\n",
    "\n",
    "# Exclure les colonnes qualitatives du DataFrame\n",
    "# df.drop(columns=colonnes_qualitatives).isna().sum()"
   ]
  },
  {
   "cell_type": "code",
   "execution_count": 1,
   "id": "f3d13521-9e46-46b2-9412-7c972598b67b",
   "metadata": {},
   "outputs": [
    {
     "ename": "NameError",
     "evalue": "name 'df' is not defined",
     "output_type": "error",
     "traceback": [
      "\u001b[0;31m---------------------------------------------------------------------------\u001b[0m",
      "\u001b[0;31mNameError\u001b[0m                                 Traceback (most recent call last)",
      "Cell \u001b[0;32mIn[1], line 1\u001b[0m\n\u001b[0;32m----> 1\u001b[0m \u001b[43mdf\u001b[49m\u001b[38;5;241m.\u001b[39mdrop(columns\u001b[38;5;241m=\u001b[39mcolonnes_qualitatives)\u001b[38;5;241m.\u001b[39mdescribe(include\u001b[38;5;241m=\u001b[39m\u001b[38;5;124m'\u001b[39m\u001b[38;5;124mall\u001b[39m\u001b[38;5;124m'\u001b[39m)\n",
      "\u001b[0;31mNameError\u001b[0m: name 'df' is not defined"
     ]
    }
   ],
   "source": [
    "df.drop(columns=colonnes_qualitatives).describe(include='all')"
   ]
  },
  {
   "cell_type": "code",
   "execution_count": 8,
   "id": "327e0a1c-90f1-4eca-b263-93b24416db06",
   "metadata": {},
   "outputs": [],
   "source": [
    "\n",
    "# A tester à ce niveau\n",
    "\n",
    "# Listez les colonnes que vous souhaitez conserver\n",
    "colonnes_a_garder = ['Température (°C)', 'Humidité', 'Point de rosée', 'Latitude', 'Longitude', 'Altitude']\n",
    "\n",
    "# Utilisez la méthode drop pour supprimer les colonnes qui ne sont pas dans la liste\n",
    "df = df.drop(columns=[colonne for colonne in df.columns if colonne not in colonnes_a_garder])"
   ]
  },
  {
   "cell_type": "code",
   "execution_count": 9,
   "id": "9ce6d249-47bc-48e4-848a-20d5ecf6fc71",
   "metadata": {},
   "outputs": [
    {
     "data": {
      "text/plain": [
       "Point de rosée      3004\n",
       "Humidité            2981\n",
       "Température (°C)    2904\n",
       "Latitude               0\n",
       "Longitude              0\n",
       "Altitude               0\n",
       "dtype: int64"
      ]
     },
     "execution_count": 9,
     "metadata": {},
     "output_type": "execute_result"
    }
   ],
   "source": [
    "df.isna().sum()"
   ]
  },
  {
   "cell_type": "code",
   "execution_count": 14,
   "id": "5a02bd95-7d5c-4667-8632-ef6a4d29a55b",
   "metadata": {},
   "outputs": [],
   "source": [
    "# Calculer la moyenne de la colonne \"Température (°C)\"\n",
    "temperature_mean = df['Température (°C)'].mean()\n",
    "humidite_mean = df['Humidité'].mean()\n",
    "point_rosee = df['Point de rosée'].mean()\n",
    "# A CORRIGER CHANGEMENT DE LA TEMPÉRATURE AVEC LES VALEURS ADÉQUAT\n",
    "# Remplacer les valeurs NaN par la moyenne\n",
    "# df['Température (°C)'].fillna(temperature_mean, inplace=True)\n",
    "df.fillna({'Température (°C)':temperature_mean}, inplace=True)\n",
    "df.fillna({'Humidité':humidite_mean}, inplace=True)\n",
    "df.fillna({'Point de rosée':point_rosee}, inplace=True)"
   ]
  },
  {
   "cell_type": "code",
   "execution_count": 15,
   "id": "4eb7a9c7-e2da-4559-a2a4-33341ebfe767",
   "metadata": {},
   "outputs": [
    {
     "data": {
      "text/plain": [
       "Point de rosée      0\n",
       "Humidité            0\n",
       "Température (°C)    0\n",
       "Latitude            0\n",
       "Longitude           0\n",
       "Altitude            0\n",
       "dtype: int64"
      ]
     },
     "execution_count": 15,
     "metadata": {},
     "output_type": "execute_result"
    }
   ],
   "source": [
    "df.isna().sum()"
   ]
  },
  {
   "cell_type": "code",
   "execution_count": null,
   "id": "d4aa5308-2b86-4f8b-a2ce-23a7a16cc41d",
   "metadata": {},
   "outputs": [],
   "source": [
    "# Calculer les corrélations et les p-values pour chaque paire de colonnes\n",
    "resultats_correlation = pd.DataFrame(columns=['Variable', 'Corrélation avec Température (°C)', 'p-value'])\n",
    "for colonne in df_numerique.columns:\n",
    "    if colonne != 'Température (°C)':  # Exclure la colonne 'Température (°C)'\n",
    "        correlation, p_value = pearsonr(df_numerique[colonne][mask[colonne]], df['Température (°C)'][mask[colonne]])\n",
    "        resultats_correlation = resultats_correlation.append({'Variable': colonne, 'Corrélation avec Température (°C)': correlation, 'p-value': p_value}, ignore_index=True)\n",
    "\n",
    "# Afficher les résultats\n",
    "print(resultats_correlation)"
   ]
  },
  {
   "cell_type": "code",
   "execution_count": 27,
   "id": "fc60300d-09b7-4843-b186-15b683801b11",
   "metadata": {},
   "outputs": [
    {
     "name": "stdout",
     "output_type": "stream",
     "text": [
      "Collecting scipy\n",
      "  Downloading scipy-1.13.0-cp311-cp311-manylinux_2_17_x86_64.manylinux2014_x86_64.whl.metadata (60 kB)\n",
      "\u001b[2K     \u001b[90m━━━━━━━━━━━━━━━━━━━━━━━━━━━━━━━━━━━━━━━━\u001b[0m \u001b[32m60.6/60.6 kB\u001b[0m \u001b[31m3.1 MB/s\u001b[0m eta \u001b[36m0:00:00\u001b[0m\n",
      "\u001b[?25hRequirement already satisfied: numpy<2.3,>=1.22.4 in /opt/conda/lib/python3.11/site-packages (from scipy) (1.26.4)\n",
      "Downloading scipy-1.13.0-cp311-cp311-manylinux_2_17_x86_64.manylinux2014_x86_64.whl (38.6 MB)\n",
      "\u001b[2K   \u001b[90m━━━━━━━━━━━━━━━━━━━━━━━━━━━━━━━━━━━━━━━━\u001b[0m \u001b[32m38.6/38.6 MB\u001b[0m \u001b[31m26.2 MB/s\u001b[0m eta \u001b[36m0:00:00\u001b[0m00:01\u001b[0m00:01\u001b[0m\n",
      "\u001b[?25hInstalling collected packages: scipy\n",
      "Successfully installed scipy-1.13.0\n"
     ]
    }
   ],
   "source": [
    "!pip install scipy"
   ]
  },
  {
   "cell_type": "code",
   "execution_count": 16,
   "id": "317964db-249e-4972-b0a0-f5be5d80d8fc",
   "metadata": {},
   "outputs": [
    {
     "name": "stdout",
     "output_type": "stream",
     "text": [
      "         Variable  Corrélation avec Température (°C) p-value\n",
      "0  Point de rosée                           0.226196  0.0000\n",
      "1        Humidité                          -0.200972  0.0000\n",
      "2        Latitude                          -0.140598  0.0000\n",
      "3       Longitude                          -0.398829  0.0000\n",
      "4        Altitude                          -0.250658  0.0000\n"
     ]
    }
   ],
   "source": [
    "from scipy.stats import pearsonr\n",
    "\n",
    "# Calculer le coefficient de corrélation et la p-value pour chaque colonne numérique par rapport à la température\n",
    "correlation_with_temperature = {}\n",
    "p_values = {}\n",
    "for colonne in df.columns:\n",
    "    if colonne != 'Température (°C)':\n",
    "        correlation, p_value = pearsonr(df[colonne], df['Température (°C)'])\n",
    "        correlation_with_temperature[colonne] = correlation\n",
    "        p_values[colonne] = p_value\n",
    "        \n",
    "\n",
    "# Créer un DataFrame pour stocker les résultats\n",
    "resultats_correlation = pd.DataFrame({\n",
    "    'Variable': list(correlation_with_temperature.keys()),\n",
    "    'Corrélation avec Température (°C)': list(correlation_with_temperature.values()),\n",
    "    'p-value': list(p_values.values())\n",
    "})\n",
    "resultats_correlation['p-value'] = resultats_correlation['p-value'].apply(lambda x: '{:.4f}'.format(x))\n",
    "# Afficher les résultats\n",
    "print(resultats_correlation)\n"
   ]
  },
  {
   "cell_type": "code",
   "execution_count": 21,
   "id": "3cc5103e-684e-4a14-9b7a-5adb8ad9a37f",
   "metadata": {
    "scrolled": true
   },
   "outputs": [
    {
     "name": "stdout",
     "output_type": "stream",
     "text": [
      "                            Variable  Corrélation avec Température (°C)  \\\n",
      "0  Variation de pression en 3 heures                           0.066699   \n",
      "1      Direction du vent moyen 10 mn                          -0.173911   \n",
      "2        Vitesse du vent moyen 10 mn                          -0.048661   \n",
      "3                     Point de rosée                           0.918825   \n",
      "4                           Humidité                          -0.225743   \n",
      "5                           Latitude                          -0.140598   \n",
      "6                          Longitude                          -0.398829   \n",
      "7                           Altitude                          -0.250658   \n",
      "\n",
      "         p-value  \n",
      "0  9.620140e-169  \n",
      "1   0.000000e+00  \n",
      "2   1.203455e-90  \n",
      "3   0.000000e+00  \n",
      "4   0.000000e+00  \n",
      "5   0.000000e+00  \n",
      "6   0.000000e+00  \n",
      "7   0.000000e+00  \n"
     ]
    }
   ],
   "source": [
    "\n",
    "# Charger le DataFrame\n",
    "df = pd.read_csv('donnees-synop.csv', sep=';', encoding='utf-8')\n",
    "# Listez les colonnes que vous souhaitez conserver\n",
    "colonnes_a_inclure = ['Température (°C)', 'Humidité', 'Point de rosée', 'Latitude', 'Longitude', 'Altitude',\n",
    "                     'Variation de pression en 3 heures', 'Direction du vent moyen 10 mn', 'Vitesse du vent moyen 10 mn']\n",
    "\n",
    "\n",
    "\n",
    "# Supprimer les colonnes qui ne sont pas dans la liste\n",
    "colonnes_a_supprimer = [colonne for colonne in df.columns if colonne not in colonnes_a_inclure]\n",
    "df.drop(columns=colonnes_a_supprimer, inplace=True)\n",
    "\n",
    "# Remplacer les valeurs NaN par la moyenne pour les variables numériques\n",
    "colonnes_numeriques = df.select_dtypes(include=['float64', 'int64']).columns\n",
    "for colonne in colonnes_numeriques:\n",
    "    moyenne_colonne = df[colonne].mean()\n",
    "    df.fillna({colonne : moyenne_colonne}, inplace=True)\n",
    "\n",
    "# Créer une liste pour stocker les résultats de corrélation\n",
    "correlation_list = []\n",
    "\n",
    "# Calculer les corrélations et les p-values pour chaque variable\n",
    "for colonne in df.columns:\n",
    "    if colonne != 'Température (°C)':  # Exclure la colonne 'Température (°C)'\n",
    "        correlation, p_value = pearsonr(df[colonne], df['Température (°C)'])\n",
    "        correlation_list.append({'Variable': colonne, \n",
    "                                 'Corrélation avec Température (°C)': correlation, \n",
    "                                 'p-value': p_value})\n",
    "\n",
    "# Créer un DataFrame à partir de la liste de résultats de corrélation\n",
    "resultats_correlation = pd.DataFrame(correlation_list)\n",
    "\n",
    "# Afficher les résultats\n",
    "print(resultats_correlation)"
   ]
  },
  {
   "cell_type": "code",
   "execution_count": 53,
   "id": "9fe47066-5079-4d5d-9a68-e088ca2e9a00",
   "metadata": {},
   "outputs": [
    {
     "name": "stdout",
     "output_type": "stream",
     "text": [
      "Collecting matplotlib\n",
      "  Downloading matplotlib-3.8.4-cp311-cp311-manylinux_2_17_x86_64.manylinux2014_x86_64.whl.metadata (5.8 kB)\n",
      "Collecting contourpy>=1.0.1 (from matplotlib)\n",
      "  Downloading contourpy-1.2.1-cp311-cp311-manylinux_2_17_x86_64.manylinux2014_x86_64.whl.metadata (5.8 kB)\n",
      "Collecting cycler>=0.10 (from matplotlib)\n",
      "  Downloading cycler-0.12.1-py3-none-any.whl.metadata (3.8 kB)\n",
      "Collecting fonttools>=4.22.0 (from matplotlib)\n",
      "  Downloading fonttools-4.51.0-cp311-cp311-manylinux_2_17_x86_64.manylinux2014_x86_64.whl.metadata (159 kB)\n",
      "\u001b[2K     \u001b[90m━━━━━━━━━━━━━━━━━━━━━━━━━━━━━━━━━━━━━━━\u001b[0m \u001b[32m159.5/159.5 kB\u001b[0m \u001b[31m3.1 MB/s\u001b[0m eta \u001b[36m0:00:00\u001b[0ma \u001b[36m0:00:01\u001b[0m\n",
      "\u001b[?25hCollecting kiwisolver>=1.3.1 (from matplotlib)\n",
      "  Downloading kiwisolver-1.4.5-cp311-cp311-manylinux_2_17_x86_64.manylinux2014_x86_64.whl.metadata (6.4 kB)\n",
      "Requirement already satisfied: numpy>=1.21 in /opt/conda/lib/python3.11/site-packages (from matplotlib) (1.26.4)\n",
      "Requirement already satisfied: packaging>=20.0 in /opt/conda/lib/python3.11/site-packages (from matplotlib) (23.2)\n",
      "Collecting pillow>=8 (from matplotlib)\n",
      "  Downloading pillow-10.3.0-cp311-cp311-manylinux_2_28_x86_64.whl.metadata (9.2 kB)\n",
      "Collecting pyparsing>=2.3.1 (from matplotlib)\n",
      "  Downloading pyparsing-3.1.2-py3-none-any.whl.metadata (5.1 kB)\n",
      "Requirement already satisfied: python-dateutil>=2.7 in /opt/conda/lib/python3.11/site-packages (from matplotlib) (2.8.2)\n",
      "Requirement already satisfied: six>=1.5 in /opt/conda/lib/python3.11/site-packages (from python-dateutil>=2.7->matplotlib) (1.16.0)\n",
      "Downloading matplotlib-3.8.4-cp311-cp311-manylinux_2_17_x86_64.manylinux2014_x86_64.whl (11.6 MB)\n",
      "\u001b[2K   \u001b[90m━━━━━━━━━━━━━━━━━━━━━━━━━━━━━━━━━━━━━━━━\u001b[0m \u001b[32m11.6/11.6 MB\u001b[0m \u001b[31m15.2 MB/s\u001b[0m eta \u001b[36m0:00:00\u001b[0m00:01\u001b[0m00:01\u001b[0m\n",
      "\u001b[?25hDownloading contourpy-1.2.1-cp311-cp311-manylinux_2_17_x86_64.manylinux2014_x86_64.whl (306 kB)\n",
      "\u001b[2K   \u001b[90m━━━━━━━━━━━━━━━━━━━━━━━━━━━━━━━━━━━━━━━━\u001b[0m \u001b[32m306.0/306.0 kB\u001b[0m \u001b[31m5.7 MB/s\u001b[0m eta \u001b[36m0:00:00\u001b[0mta \u001b[36m0:00:01\u001b[0m\n",
      "\u001b[?25hDownloading cycler-0.12.1-py3-none-any.whl (8.3 kB)\n",
      "Downloading fonttools-4.51.0-cp311-cp311-manylinux_2_17_x86_64.manylinux2014_x86_64.whl (4.9 MB)\n",
      "\u001b[2K   \u001b[90m━━━━━━━━━━━━━━━━━━━━━━━━━━━━━━━━━━━━━━━━\u001b[0m \u001b[32m4.9/4.9 MB\u001b[0m \u001b[31m28.6 MB/s\u001b[0m eta \u001b[36m0:00:00\u001b[0m00:01\u001b[0m00:01\u001b[0m\n",
      "\u001b[?25hDownloading kiwisolver-1.4.5-cp311-cp311-manylinux_2_17_x86_64.manylinux2014_x86_64.whl (1.4 MB)\n",
      "\u001b[2K   \u001b[90m━━━━━━━━━━━━━━━━━━━━━━━━━━━━━━━━━━━━━━━━\u001b[0m \u001b[32m1.4/1.4 MB\u001b[0m \u001b[31m23.6 MB/s\u001b[0m eta \u001b[36m0:00:00\u001b[0m00:01\u001b[0m\n",
      "\u001b[?25hDownloading pillow-10.3.0-cp311-cp311-manylinux_2_28_x86_64.whl (4.5 MB)\n",
      "\u001b[2K   \u001b[90m━━━━━━━━━━━━━━━━━━━━━━━━━━━━━━━━━━━━━━━━\u001b[0m \u001b[32m4.5/4.5 MB\u001b[0m \u001b[31m26.3 MB/s\u001b[0m eta \u001b[36m0:00:00\u001b[0m00:01\u001b[0m00:01\u001b[0m\n",
      "\u001b[?25hDownloading pyparsing-3.1.2-py3-none-any.whl (103 kB)\n",
      "\u001b[2K   \u001b[90m━━━━━━━━━━━━━━━━━━━━━━━━━━━━━━━━━━━━━━━━\u001b[0m \u001b[32m103.2/103.2 kB\u001b[0m \u001b[31m10.2 MB/s\u001b[0m eta \u001b[36m0:00:00\u001b[0m\n",
      "\u001b[?25hInstalling collected packages: pyparsing, pillow, kiwisolver, fonttools, cycler, contourpy, matplotlib\n",
      "Successfully installed contourpy-1.2.1 cycler-0.12.1 fonttools-4.51.0 kiwisolver-1.4.5 matplotlib-3.8.4 pillow-10.3.0 pyparsing-3.1.2\n"
     ]
    }
   ],
   "source": [
    "!pip install matplotlib"
   ]
  },
  {
   "cell_type": "code",
   "execution_count": 54,
   "id": "69ec1c68-a18c-42dd-b6d8-2d2f99cd2a52",
   "metadata": {},
   "outputs": [
    {
     "name": "stdout",
     "output_type": "stream",
     "text": [
      "Collecting seaborn\n",
      "  Downloading seaborn-0.13.2-py3-none-any.whl.metadata (5.4 kB)\n",
      "Requirement already satisfied: numpy!=1.24.0,>=1.20 in /opt/conda/lib/python3.11/site-packages (from seaborn) (1.26.4)\n",
      "Requirement already satisfied: pandas>=1.2 in /opt/conda/lib/python3.11/site-packages (from seaborn) (2.2.2)\n",
      "Requirement already satisfied: matplotlib!=3.6.1,>=3.4 in /opt/conda/lib/python3.11/site-packages (from seaborn) (3.8.4)\n",
      "Requirement already satisfied: contourpy>=1.0.1 in /opt/conda/lib/python3.11/site-packages (from matplotlib!=3.6.1,>=3.4->seaborn) (1.2.1)\n",
      "Requirement already satisfied: cycler>=0.10 in /opt/conda/lib/python3.11/site-packages (from matplotlib!=3.6.1,>=3.4->seaborn) (0.12.1)\n",
      "Requirement already satisfied: fonttools>=4.22.0 in /opt/conda/lib/python3.11/site-packages (from matplotlib!=3.6.1,>=3.4->seaborn) (4.51.0)\n",
      "Requirement already satisfied: kiwisolver>=1.3.1 in /opt/conda/lib/python3.11/site-packages (from matplotlib!=3.6.1,>=3.4->seaborn) (1.4.5)\n",
      "Requirement already satisfied: packaging>=20.0 in /opt/conda/lib/python3.11/site-packages (from matplotlib!=3.6.1,>=3.4->seaborn) (23.2)\n",
      "Requirement already satisfied: pillow>=8 in /opt/conda/lib/python3.11/site-packages (from matplotlib!=3.6.1,>=3.4->seaborn) (10.3.0)\n",
      "Requirement already satisfied: pyparsing>=2.3.1 in /opt/conda/lib/python3.11/site-packages (from matplotlib!=3.6.1,>=3.4->seaborn) (3.1.2)\n",
      "Requirement already satisfied: python-dateutil>=2.7 in /opt/conda/lib/python3.11/site-packages (from matplotlib!=3.6.1,>=3.4->seaborn) (2.8.2)\n",
      "Requirement already satisfied: pytz>=2020.1 in /opt/conda/lib/python3.11/site-packages (from pandas>=1.2->seaborn) (2023.3.post1)\n",
      "Requirement already satisfied: tzdata>=2022.7 in /opt/conda/lib/python3.11/site-packages (from pandas>=1.2->seaborn) (2024.1)\n",
      "Requirement already satisfied: six>=1.5 in /opt/conda/lib/python3.11/site-packages (from python-dateutil>=2.7->matplotlib!=3.6.1,>=3.4->seaborn) (1.16.0)\n",
      "Downloading seaborn-0.13.2-py3-none-any.whl (294 kB)\n",
      "\u001b[2K   \u001b[90m━━━━━━━━━━━━━━━━━━━━━━━━━━━━━━━━━━━━━━━━\u001b[0m \u001b[32m294.9/294.9 kB\u001b[0m \u001b[31m5.1 MB/s\u001b[0m eta \u001b[36m0:00:00\u001b[0ma \u001b[36m0:00:01\u001b[0m\n",
      "\u001b[?25hInstalling collected packages: seaborn\n",
      "Successfully installed seaborn-0.13.2\n"
     ]
    }
   ],
   "source": [
    "!pip install seaborn"
   ]
  },
  {
   "cell_type": "code",
   "execution_count": 22,
   "id": "4ca3da81-88e8-49c7-a937-63f3e7444815",
   "metadata": {},
   "outputs": [
    {
     "data": {
      "image/png": "[encoded data removed]",
      "text/plain": [
       "<Figure size 1200x1000 with 2 Axes>"
      ]
     },
     "metadata": {},
     "output_type": "display_data"
    }
   ],
   "source": [
    "\n",
    "import seaborn as sns\n",
    "import matplotlib.pyplot as plt\n",
    "\n",
    "# Calculer la matrice de corrélation\n",
    "corr_matrix = df.corr()\n",
    "\n",
    "# Créer un heatmap\n",
    "plt.figure(figsize=(12, 10))\n",
    "sns.heatmap(corr_matrix, annot=True, cmap='coolwarm', fmt=\".2f\")\n",
    "\n",
    "# Ajouter un titre\n",
    "plt.title('Matrice de corrélation')\n",
    "\n",
    "# Afficher le heatmap\n",
    "plt.show()"
   ]
  },
  {
   "cell_type": "code",
   "execution_count": 58,
   "id": "96aaf952-1ec0-4402-bb81-7ac215cb70a3",
   "metadata": {},
   "outputs": [
    {
     "name": "stdout",
     "output_type": "stream",
     "text": [
      "Collecting scikit-learn\n",
      "  Downloading scikit_learn-1.4.2-cp311-cp311-manylinux_2_17_x86_64.manylinux2014_x86_64.whl.metadata (11 kB)\n",
      "Requirement already satisfied: numpy>=1.19.5 in /opt/conda/lib/python3.11/site-packages (from scikit-learn) (1.26.4)\n",
      "Requirement already satisfied: scipy>=1.6.0 in /opt/conda/lib/python3.11/site-packages (from scikit-learn) (1.13.0)\n",
      "Collecting joblib>=1.2.0 (from scikit-learn)\n",
      "  Downloading joblib-1.4.0-py3-none-any.whl.metadata (5.4 kB)\n",
      "Collecting threadpoolctl>=2.0.0 (from scikit-learn)\n",
      "  Downloading threadpoolctl-3.4.0-py3-none-any.whl.metadata (13 kB)\n",
      "Downloading scikit_learn-1.4.2-cp311-cp311-manylinux_2_17_x86_64.manylinux2014_x86_64.whl (12.1 MB)\n",
      "\u001b[2K   \u001b[90m━━━━━━━━━━━━━━━━━━━━━━━━━━━━━━━━━━━━━━━━\u001b[0m \u001b[32m12.1/12.1 MB\u001b[0m \u001b[31m60.3 MB/s\u001b[0m eta \u001b[36m0:00:00\u001b[0ma \u001b[36m0:00:01\u001b[0m\n",
      "\u001b[?25hDownloading joblib-1.4.0-py3-none-any.whl (301 kB)\n",
      "\u001b[2K   \u001b[90m━━━━━━━━━━━━━━━━━━━━━━━━━━━━━━━━━━━━━━━━\u001b[0m \u001b[32m301.2/301.2 kB\u001b[0m \u001b[31m18.5 MB/s\u001b[0m eta \u001b[36m0:00:00\u001b[0m\n",
      "\u001b[?25hDownloading threadpoolctl-3.4.0-py3-none-any.whl (17 kB)\n",
      "Installing collected packages: threadpoolctl, joblib, scikit-learn\n",
      "Successfully installed joblib-1.4.0 scikit-learn-1.4.2 threadpoolctl-3.4.0\n"
     ]
    }
   ],
   "source": [
    "!pip install scikit-learn"
   ]
  },
  {
   "cell_type": "code",
   "execution_count": null,
   "id": "dd49a3a6-b320-4f2c-becf-a83bf537c40b",
   "metadata": {},
   "outputs": [],
   "source": []
  },
  {
   "cell_type": "code",
   "execution_count": null,
   "id": "49fdc355-928c-4a6c-ac2b-dfa906a8cfb9",
   "metadata": {},
   "outputs": [],
   "source": []
  },
  {
   "cell_type": "code",
   "execution_count": 23,
   "id": "cdfa0360-d63f-41a3-b139-5e16468e9c96",
   "metadata": {},
   "outputs": [
    {
     "name": "stdout",
     "output_type": "stream",
     "text": [
      "Erreur quadratique moyenne: 0.07136723848568179\n"
     ]
    }
   ],
   "source": [
    "from sklearn.model_selection import train_test_split\n",
    "from sklearn.preprocessing import PolynomialFeatures\n",
    "from sklearn.linear_model import LinearRegression\n",
    "from sklearn.metrics import mean_squared_error\n",
    "from sklearn.pipeline import make_pipeline\n",
    "\n",
    "# Séparation des variables indépendantes (X) et de la variable cible (y)\n",
    "X = df[['Humidité', 'Point de rosée', 'Latitude', 'Longitude', 'Altitude']]\n",
    "y = df['Température (°C)']\n",
    "\n",
    "# Séparation des données en ensembles d'entraînement et de test\n",
    "X_train, X_test, y_train, y_test = train_test_split(X, y, test_size=0.2, random_state=42)\n",
    "\n",
    "# Création des caractéristiques polynomiales\n",
    "degree = 2  # Degré du polynôme\n",
    "poly_features = PolynomialFeatures(degree=degree)\n",
    "X_train_poly = poly_features.fit_transform(X_train)\n",
    "X_test_poly = poly_features.transform(X_test)\n",
    "\n",
    "# Entraînement du modèle de régression linéaire\n",
    "model = LinearRegression()\n",
    "model.fit(X_train_poly, y_train)\n",
    "\n",
    "# Prédiction sur l'ensemble de test\n",
    "y_pred = model.predict(X_test_poly)\n",
    "\n",
    "# Calcul de l'erreur quadratique moyenne\n",
    "mse = mean_squared_error(y_test, y_pred)\n",
    "print(\"Erreur quadratique moyenne:\", mse)"
   ]
  },
  {
   "cell_type": "code",
   "execution_count": 24,
   "id": "0feda872-5831-41d8-b9de-64fa28130e42",
   "metadata": {},
   "outputs": [
    {
     "name": "stdout",
     "output_type": "stream",
     "text": [
      "Équation du modèle pour un polynôme de degré 2: y = -295.33 + -0.08 * X1^1 + 1.24 * X2^2 + -0.05 * X3^3 + -0.04 * X4^4\n"
     ]
    }
   ],
   "source": [
    "from sklearn.model_selection import train_test_split\n",
    "from sklearn.preprocessing import PolynomialFeatures\n",
    "from sklearn.linear_model import LinearRegression\n",
    "from sklearn.metrics import mean_squared_error\n",
    "from sklearn.pipeline import make_pipeline\n",
    "\n",
    "\n",
    "# Sélectionnez les colonnes indépendantes\n",
    "X = df[['Humidité', 'Point de rosée', 'Latitude', 'Longitude', 'Altitude']]\n",
    "\n",
    "# Spécifiez la variable dépendante\n",
    "y = df['Température (°C)']\n",
    "\n",
    "# Spécifiez le degré du polynôme\n",
    "degree = 2  # Choisir le degré de polynôme souhaité\n",
    "\n",
    "# Créez et entraînez le modèle de régression polynomiale\n",
    "model = make_pipeline(PolynomialFeatures(degree), LinearRegression())\n",
    "model.fit(X, y)\n",
    "\n",
    "# Extraire les coefficients du modèle\n",
    "coefficients = model.named_steps['linearregression'].coef_[:5]  # Garder uniquement les 5 premiers coefficients\n",
    "intercept = model.named_steps['linearregression'].intercept_\n",
    "\n",
    "# Afficher l'équation du modèle\n",
    "equation = f\"y = {intercept:.2f}\"\n",
    "for i, coef in enumerate(coefficients[1:], start=1):\n",
    "    equation += f\" + {coef:.2f} * X{i}^{i}\"\n",
    "print(f\"Équation du modèle pour un polynôme de degré {degree}:\", equation)\n",
    "\n",
    "\n"
   ]
  },
  {
   "cell_type": "markdown",
   "id": "305ad695",
   "metadata": {},
   "source": []
  },
  {
   "cell_type": "code",
   "execution_count": 25,
   "id": "832846ea-a29b-4e34-8ed7-787e570ef0d4",
   "metadata": {},
   "outputs": [],
   "source": [
    "import numpy as np\n",
    "import matplotlib.pyplot as plt\n",
    "from sklearn.model_selection import train_test_split\n",
    "from sklearn.preprocessing import PolynomialFeatures\n",
    "from sklearn.linear_model import LinearRegression\n",
    "from sklearn.metrics import r2_score, mean_squared_error\n"
   ]
  },
  {
   "cell_type": "code",
   "execution_count": 26,
   "id": "7fed1a72-2e9e-4c93-8a17-51bb0a28259d",
   "metadata": {},
   "outputs": [],
   "source": [
    "X = df[['Humidité', 'Point de rosée', 'Latitude', 'Longitude', 'Altitude']]\n",
    "y = df['Température (°C)']\n",
    "X_train, X_test, y_train, y_test = train_test_split(X, y, test_size=0.2, random_state=42)\n"
   ]
  },
  {
   "cell_type": "code",
   "execution_count": 27,
   "id": "37102023-70ec-4b8c-9d37-741b0eb8239b",
   "metadata": {},
   "outputs": [],
   "source": [
    "degrees = [1, 2, 3, 4, 5]\n",
    "train_r2_scores = []\n",
    "test_r2_scores = []\n",
    "train_rmse_scores = []\n",
    "test_rmse_scores = []\n",
    "\n",
    "for degree in degrees:\n",
    "    poly_features = PolynomialFeatures(degree=degree)\n",
    "    X_train_poly = poly_features.fit_transform(X_train)\n",
    "    X_test_poly = poly_features.transform(X_test)\n",
    "    \n",
    "    model = LinearRegression()\n",
    "    model.fit(X_train_poly, y_train)\n",
    "    \n",
    "    y_train_pred = model.predict(X_train_poly)\n",
    "    y_test_pred = model.predict(X_test_poly)\n",
    "    \n",
    "    train_r2_scores.append(r2_score(y_train, y_train_pred))\n",
    "    test_r2_scores.append(r2_score(y_test, y_test_pred))\n",
    "    train_rmse_scores.append(np.sqrt(mean_squared_error(y_train, y_train_pred)))\n",
    "    test_rmse_scores.append(np.sqrt(mean_squared_error(y_test, y_test_pred)))\n"
   ]
  },
  {
   "cell_type": "code",
   "execution_count": 28,
   "id": "c8dbab40-1312-49c7-821a-280046553582",
   "metadata": {},
   "outputs": [
    {
     "data": {
      "image/png": "[encoded data removed]",
      "text/plain": [
       "<Figure size 1000x500 with 2 Axes>"
      ]
     },
     "metadata": {},
     "output_type": "display_data"
    }
   ],
   "source": [
    "plt.figure(figsize=(10, 5))\n",
    "\n",
    "plt.subplot(1, 2, 1)\n",
    "plt.plot(degrees, train_r2_scores, label='Ensemble d\\'entraînement')\n",
    "plt.plot(degrees, test_r2_scores, label='Ensemble de test')\n",
    "plt.xlabel('Degré du polynôme')\n",
    "plt.ylabel('R²')\n",
    "plt.title('Performance du modèle (R²)')\n",
    "plt.legend()\n",
    "\n",
    "plt.subplot(1, 2, 2)\n",
    "plt.plot(degrees, train_rmse_scores, label='Ensemble d\\'entraînement')\n",
    "plt.plot(degrees, test_rmse_scores, label='Ensemble de test')\n",
    "plt.xlabel('Degré du polynôme')\n",
    "plt.ylabel('RMSE')\n",
    "plt.title('Performance du modèle (RMSE)')\n",
    "plt.legend()\n",
    "\n",
    "plt.tight_layout()\n",
    "plt.show()\n"
   ]
  },
  {
   "cell_type": "code",
   "execution_count": 31,
   "id": "3c6ce80b-ba14-4032-97f3-29e8360bd3a5",
   "metadata": {},
   "outputs": [
    {
     "name": "stdout",
     "output_type": "stream",
     "text": [
      "Collecting statsmodels\n",
      "  Downloading statsmodels-0.14.1-cp311-cp311-manylinux_2_17_x86_64.manylinux2014_x86_64.whl.metadata (9.5 kB)\n",
      "Requirement already satisfied: numpy<2,>=1.18 in /opt/conda/lib/python3.11/site-packages (from statsmodels) (1.26.4)\n",
      "Requirement already satisfied: scipy!=1.9.2,>=1.4 in /opt/conda/lib/python3.11/site-packages (from statsmodels) (1.13.0)\n",
      "Requirement already satisfied: pandas!=2.1.0,>=1.0 in /opt/conda/lib/python3.11/site-packages (from statsmodels) (2.2.2)\n",
      "Collecting patsy>=0.5.4 (from statsmodels)\n",
      "  Downloading patsy-0.5.6-py2.py3-none-any.whl.metadata (3.5 kB)\n",
      "Requirement already satisfied: packaging>=21.3 in /opt/conda/lib/python3.11/site-packages (from statsmodels) (23.2)\n",
      "Requirement already satisfied: python-dateutil>=2.8.2 in /opt/conda/lib/python3.11/site-packages (from pandas!=2.1.0,>=1.0->statsmodels) (2.8.2)\n",
      "Requirement already satisfied: pytz>=2020.1 in /opt/conda/lib/python3.11/site-packages (from pandas!=2.1.0,>=1.0->statsmodels) (2023.3.post1)\n",
      "Requirement already satisfied: tzdata>=2022.7 in /opt/conda/lib/python3.11/site-packages (from pandas!=2.1.0,>=1.0->statsmodels) (2024.1)\n",
      "Requirement already satisfied: six in /opt/conda/lib/python3.11/site-packages (from patsy>=0.5.4->statsmodels) (1.16.0)\n",
      "Downloading statsmodels-0.14.1-cp311-cp311-manylinux_2_17_x86_64.manylinux2014_x86_64.whl (10.8 MB)\n",
      "\u001b[2K   \u001b[90m━━━━━━━━━━━━━━━━━━━━━━━━━━━━━━━━━━━━━━━━\u001b[0m \u001b[32m10.8/10.8 MB\u001b[0m \u001b[31m22.5 MB/s\u001b[0m eta \u001b[36m0:00:00\u001b[0m00:01\u001b[0m0:01\u001b[0m\n",
      "\u001b[?25hDownloading patsy-0.5.6-py2.py3-none-any.whl (233 kB)\n",
      "\u001b[2K   \u001b[90m━━━━━━━━━━━━━━━━━━━━━━━━━━━━━━━━━━━━━━━━\u001b[0m \u001b[32m233.9/233.9 kB\u001b[0m \u001b[31m3.0 MB/s\u001b[0m eta \u001b[36m0:00:00\u001b[0mta \u001b[36m0:00:01\u001b[0m\n",
      "\u001b[?25hInstalling collected packages: patsy, statsmodels\n",
      "Successfully installed patsy-0.5.6 statsmodels-0.14.1\n"
     ]
    }
   ],
   "source": [
    "!pip install statsmodels"
   ]
  },
  {
   "cell_type": "code",
   "execution_count": 32,
   "id": "4c660418-b793-4608-a5d7-4ccb1e41f7fe",
   "metadata": {},
   "outputs": [],
   "source": [
    "import statsmodels.formula.api as smf\n",
    "import statsmodels.api as sm"
   ]
  },
  {
   "cell_type": "code",
   "execution_count": 33,
   "id": "72ddbc21-ac6d-48ed-8352-949aab667629",
   "metadata": {},
   "outputs": [],
   "source": [
    "df['Température (°C)']\n",
    "df[['Humidité', 'Point de rosée', 'Latitude', 'Longitude', 'Altitude']]\n",
    "\n",
    "\n",
    "# Renommer les colonnes 'Humidité', 'Point de rosée', 'Latitude', 'Longitude', 'Altitude'\n",
    "nouveaux_noms = {'Humidité': 'Humidite', 'Point de rosée': 'Point_de_rosee', 'Latitude': 'Latitude', \n",
    "                 'Longitude': 'Longitude', 'Altitude': 'Altitude', 'Température (°C)':'Temperature_C'}\n",
    "df.rename(columns=nouveaux_noms, inplace=True)\n"
   ]
  },
  {
   "cell_type": "code",
   "execution_count": 34,
   "id": "8a5d5978-69f4-45f2-aa7f-09215ce8c31c",
   "metadata": {},
   "outputs": [],
   "source": [
    "reg = smf.ols('Temperature_C ~ Humidite + Point_de_rosee + Latitude', data = df)"
   ]
  },
  {
   "cell_type": "code",
   "execution_count": 35,
   "id": "0d117f17-4b0c-4aa7-801c-0a8908512ab0",
   "metadata": {},
   "outputs": [],
   "source": [
    "res = reg.fit()"
   ]
  },
  {
   "cell_type": "code",
   "execution_count": 36,
   "id": "e43800df-aaea-4372-baed-f8ba241ff344",
   "metadata": {},
   "outputs": [
    {
     "name": "stdout",
     "output_type": "stream",
     "text": [
      "                            OLS Regression Results                            \n",
      "==============================================================================\n",
      "Dep. Variable:          Temperature_C   R-squared:                       0.995\n",
      "Model:                            OLS   Adj. R-squared:                  0.995\n",
      "Method:                 Least Squares   F-statistic:                 1.058e+07\n",
      "Date:                Tue, 16 Apr 2024   Prob (F-statistic):               0.00\n",
      "Time:                        04:55:02   Log-Likelihood:            -1.7798e+05\n",
      "No. Observations:              171947   AIC:                         3.560e+05\n",
      "Df Residuals:                  171943   BIC:                         3.560e+05\n",
      "Df Model:                           3                                         \n",
      "Covariance Type:            nonrobust                                         \n",
      "==================================================================================\n",
      "                     coef    std err          t      P>|t|      [0.025      0.975]\n",
      "----------------------------------------------------------------------------------\n",
      "Intercept       -261.2705      0.053  -4885.984      0.000    -261.375    -261.166\n",
      "Humidite          -0.2278      0.000  -2190.161      0.000      -0.228      -0.228\n",
      "Point_de_rosee     1.0348      0.000   5434.082      0.000       1.034       1.035\n",
      "Latitude           0.0058   5.79e-05    100.499      0.000       0.006       0.006\n",
      "==============================================================================\n",
      "Omnibus:                    99873.388   Durbin-Watson:                   1.791\n",
      "Prob(Omnibus):                  0.000   Jarque-Bera (JB):         21419883.120\n",
      "Skew:                           1.696   Prob(JB):                         0.00\n",
      "Kurtosis:                      57.573   Cond. No.                     9.61e+03\n",
      "==============================================================================\n",
      "\n",
      "Notes:\n",
      "[1] Standard Errors assume that the covariance matrix of the errors is correctly specified.\n",
      "[2] The condition number is large, 9.61e+03. This might indicate that there are\n",
      "strong multicollinearity or other numerical problems.\n"
     ]
    }
   ],
   "source": [
    "print(res.summary())"
   ]
  },
  {
   "cell_type": "code",
   "execution_count": 37,
   "id": "f1bd0467-de22-45ac-8a24-d79513c0b404",
   "metadata": {},
   "outputs": [
    {
     "name": "stdout",
     "output_type": "stream",
     "text": [
      "paramètres :\n",
      " Intercept        -261.270452\n",
      "Humidite           -0.227808\n",
      "Point_de_rosee      1.034788\n",
      "Latitude            0.005821\n",
      "dtype: float64 \n",
      "\n",
      "degrés de liberté :\n",
      " 3.0 \n",
      "\n"
     ]
    }
   ],
   "source": [
    "#paramètres estimés Beta chap\n",
    "print('paramètres :\\n',res.params,'\\n')\n",
    "#degrés de liberté du modèle\n",
    "print('degrés de liberté :\\n',res.df_model,'\\n')"
   ]
  },
  {
   "cell_type": "code",
   "execution_count": 40,
   "id": "bceb9156-3589-4423-8883-de8dd430752e",
   "metadata": {},
   "outputs": [
    {
     "name": "stderr",
     "output_type": "stream",
     "text": [
      "/tmp/ipykernel_46551/4119418729.py:2: FutureWarning: Series.__getitem__ treating keys as positions is deprecated. In a future version, integer keys will always be treated as labels (consistent with DataFrame behavior). To access a value by position, use `ser.iloc[pos]`\n",
      "  res.params[0]+res.params[1]*70+res.params[2]*297.95+res.params[3]*5\n"
     ]
    },
    {
     "data": {
      "text/plain": [
       "31.127169155360768"
      ]
     },
     "execution_count": 40,
     "metadata": {},
     "output_type": "execute_result"
    }
   ],
   "source": [
    "# Ecrire le calcul\n",
    "res.params[0]+res.params[1]*70+res.params[2]*297.95+res.params[3]*5  #Exemple de Calcul (1er ligne de la matrice)"
   ]
  },
  {
   "cell_type": "code",
   "execution_count": 39,
   "id": "f2c5ecb8-2c36-4cd3-93a1-712171248a0a",
   "metadata": {},
   "outputs": [
    {
     "data": {
      "text/html": [
       "<div>\n",
       "<style scoped>\n",
       "    .dataframe tbody tr th:only-of-type {\n",
       "        vertical-align: middle;\n",
       "    }\n",
       "\n",
       "    .dataframe tbody tr th {\n",
       "        vertical-align: top;\n",
       "    }\n",
       "\n",
       "    .dataframe thead th {\n",
       "        text-align: right;\n",
       "    }\n",
       "</style>\n",
       "<table border=\"1\" class=\"dataframe\">\n",
       "  <thead>\n",
       "    <tr style=\"text-align: right;\">\n",
       "      <th></th>\n",
       "      <th>Variation de pression en 3 heures</th>\n",
       "      <th>Direction du vent moyen 10 mn</th>\n",
       "      <th>Vitesse du vent moyen 10 mn</th>\n",
       "      <th>Point_de_rosee</th>\n",
       "      <th>Humidite</th>\n",
       "      <th>Temperature_C</th>\n",
       "      <th>Latitude</th>\n",
       "      <th>Longitude</th>\n",
       "      <th>Altitude</th>\n",
       "    </tr>\n",
       "  </thead>\n",
       "  <tbody>\n",
       "    <tr>\n",
       "      <th>0</th>\n",
       "      <td>40.0</td>\n",
       "      <td>60.0</td>\n",
       "      <td>3.3</td>\n",
       "      <td>297.95</td>\n",
       "      <td>70.0</td>\n",
       "      <td>30.9</td>\n",
       "      <td>5.485500</td>\n",
       "      <td>-54.031667</td>\n",
       "      <td>5</td>\n",
       "    </tr>\n",
       "    <tr>\n",
       "      <th>1</th>\n",
       "      <td>20.0</td>\n",
       "      <td>340.0</td>\n",
       "      <td>7.2</td>\n",
       "      <td>268.75</td>\n",
       "      <td>40.0</td>\n",
       "      <td>8.4</td>\n",
       "      <td>46.046833</td>\n",
       "      <td>-1.411500</td>\n",
       "      <td>11</td>\n",
       "    </tr>\n",
       "    <tr>\n",
       "      <th>2</th>\n",
       "      <td>160.0</td>\n",
       "      <td>320.0</td>\n",
       "      <td>16.8</td>\n",
       "      <td>267.75</td>\n",
       "      <td>35.0</td>\n",
       "      <td>9.3</td>\n",
       "      <td>43.437667</td>\n",
       "      <td>5.216000</td>\n",
       "      <td>9</td>\n",
       "    </tr>\n",
       "    <tr>\n",
       "      <th>3</th>\n",
       "      <td>230.0</td>\n",
       "      <td>360.0</td>\n",
       "      <td>8.7</td>\n",
       "      <td>264.35</td>\n",
       "      <td>53.0</td>\n",
       "      <td>-0.4</td>\n",
       "      <td>44.118500</td>\n",
       "      <td>3.019500</td>\n",
       "      <td>712</td>\n",
       "    </tr>\n",
       "    <tr>\n",
       "      <th>4</th>\n",
       "      <td>370.0</td>\n",
       "      <td>20.0</td>\n",
       "      <td>0.9</td>\n",
       "      <td>262.15</td>\n",
       "      <td>43.0</td>\n",
       "      <td>0.1</td>\n",
       "      <td>44.565667</td>\n",
       "      <td>6.502333</td>\n",
       "      <td>871</td>\n",
       "    </tr>\n",
       "  </tbody>\n",
       "</table>\n",
       "</div>"
      ],
      "text/plain": [
       "   Variation de pression en 3 heures  Direction du vent moyen 10 mn  \\\n",
       "0                               40.0                           60.0   \n",
       "1                               20.0                          340.0   \n",
       "2                              160.0                          320.0   \n",
       "3                              230.0                          360.0   \n",
       "4                              370.0                           20.0   \n",
       "\n",
       "   Vitesse du vent moyen 10 mn  Point_de_rosee  Humidite  Temperature_C  \\\n",
       "0                          3.3          297.95      70.0           30.9   \n",
       "1                          7.2          268.75      40.0            8.4   \n",
       "2                         16.8          267.75      35.0            9.3   \n",
       "3                          8.7          264.35      53.0           -0.4   \n",
       "4                          0.9          262.15      43.0            0.1   \n",
       "\n",
       "    Latitude  Longitude  Altitude  \n",
       "0   5.485500 -54.031667         5  \n",
       "1  46.046833  -1.411500        11  \n",
       "2  43.437667   5.216000         9  \n",
       "3  44.118500   3.019500       712  \n",
       "4  44.565667   6.502333       871  "
      ]
     },
     "execution_count": 39,
     "metadata": {},
     "output_type": "execute_result"
    }
   ],
   "source": []
  },
  {
   "cell_type": "code",
   "execution_count": 41,
   "id": "f869e5d2-167b-4bcf-ae64-f278e747eb6a",
   "metadata": {},
   "outputs": [
    {
     "name": "stdout",
     "output_type": "stream",
     "text": [
      "0         31.129995\n",
      "1          7.984533\n",
      "2          8.073599\n",
      "3          0.458732\n",
      "4          0.462885\n",
      "            ...    \n",
      "171942    21.590124\n",
      "171943    16.898989\n",
      "171944    15.294622\n",
      "171945    18.126364\n",
      "171946    13.184834\n",
      "Length: 171947, dtype: float64\n"
     ]
    }
   ],
   "source": [
    "# permet d’extraire les valeurs prédites pour Y.\n",
    "Y_chap = res.fittedvalues # OU res.predict()\n",
    "print(Y_chap)"
   ]
  },
  {
   "cell_type": "code",
   "execution_count": 43,
   "id": "67198979-72ab-426f-870a-78ec007d36b6",
   "metadata": {},
   "outputs": [
    {
     "name": "stdout",
     "output_type": "stream",
     "text": [
      "0        -0.229995\n",
      "1         0.415467\n",
      "2         1.226401\n",
      "3        -0.858732\n",
      "4        -0.362885\n",
      "            ...   \n",
      "171942    0.209876\n",
      "171943    0.201011\n",
      "171944   -0.094622\n",
      "171945   -0.426364\n",
      "171946    0.015166\n",
      "Length: 171947, dtype: float64\n"
     ]
    }
   ],
   "source": [
    "# calcul du vecteur Epsilon\n",
    "# valeurs réelles - valeurs prédites\n",
    "Y = df['Temperature_C']\n",
    "eps = Y-Y_chap\n",
    "print(eps)"
   ]
  },
  {
   "cell_type": "code",
   "execution_count": 44,
   "id": "af43da93-6732-4acb-897b-847270502cf3",
   "metadata": {},
   "outputs": [
    {
     "data": {
      "image/png": "[encoded data removed]",
      "text/plain": [
       "<Figure size 640x480 with 4 Axes>"
      ]
     },
     "metadata": {},
     "output_type": "display_data"
    }
   ],
   "source": [
    "fig = sm.graphics.plot_partregress_grid(res)\n",
    "# ou fig = sm.graphics.plot_ccpr(res, \"BEU\") si on souhaite en obsever un en particulier"
   ]
  },
  {
   "cell_type": "code",
   "execution_count": 46,
   "id": "d0366a7b-dbc4-4fd8-b163-489b623b7805",
   "metadata": {},
   "outputs": [
    {
     "name": "stdout",
     "output_type": "stream",
     "text": [
      "SCR : 79795.62435646338 \n",
      "\n",
      "SCE : 14725496.676376015 \n",
      "\n",
      "SCT : 14805292.300732478 \n",
      "\n",
      "R2 : 0.9946103310400353 \n",
      "\n",
      "R2 ajusté : 0.9946102370030179 \n",
      "\n",
      "mse_resid : 0.4640818431483886 \n",
      "\n",
      "mse_total : 86.10431356782058 \n",
      "\n",
      "calcul manuel du F : 10576795.805725722 \n",
      "\n",
      "F fourni : 10576795.805725722\n"
     ]
    }
   ],
   "source": [
    "#SCR\n",
    "print('SCR :',res.ssr,'\\n')\n",
    "#SCE\n",
    "print('SCE :',res.ess,'\\n')\n",
    "#SCT\n",
    "print('SCT :',res.centered_tss,'\\n')\n",
    "#le R2\n",
    "print('R2 :',res.rsquared,'\\n')\n",
    "#le R2 ajusté\n",
    "print('R2 ajusté :',res.rsquared_adj,'\\n')\n",
    "# SCR divisé par le nombre de degrés de liberté des résidus.\n",
    "print('mse_resid :',res.mse_resid,'\\n')\n",
    "# SCT divisé par somme des degrés de liberté des paramètres et des résidus\n",
    "print('mse_total :',res.mse_total,'\\n')\n",
    "#calcul manuel de la statistique F à partir des carrés moyens\n",
    "F = res.mse_model / res.mse_resid\n",
    "print('calcul manuel du F :',F,'\\n')\n",
    "#la statistique F fourni par l'objet res\n",
    "print('F fourni :',res.fvalue)"
   ]
  },
  {
   "cell_type": "markdown",
   "id": "41918adc-16d1-49d7-b382-4f7b0d682812",
   "metadata": {},
   "source": [
    "Le test de Fisher indique que le modèle est très performant pour expliquer la variance des données, avec un coefficient de détermination élevé et des valeurs de SCR, SCE et SCT significatives."
   ]
  }
 ],
 "metadata": {
  "kernelspec": {
   "display_name": "Python 3 (ipykernel)",
   "language": "python",
   "name": "python3"
  },
  "language_info": {
   "codemirror_mode": {
    "name": "ipython",
    "version": 3
   },
   "file_extension": ".py",
   "mimetype": "text/x-python",
   "name": "python",
   "nbconvert_exporter": "python",
   "pygments_lexer": "ipython3",
   "version": "3.11.6"
  }
 },
 "nbformat": 4,
 "nbformat_minor": 5
}
