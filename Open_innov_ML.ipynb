{
 "cells": [
  {
   "cell_type": "code",
   "execution_count": 1,
   "id": "f7e32472-c68a-474b-bf09-3c8036640f47",
   "metadata": {},
   "outputs": [
    {
     "name": "stdout",
     "output_type": "stream",
     "text": [
      "Requirement already satisfied: pandas in /opt/conda/lib/python3.11/site-packages (2.2.2)\n",
      "Requirement already satisfied: numpy>=1.23.2 in /opt/conda/lib/python3.11/site-packages (from pandas) (1.26.4)\n",
      "Requirement already satisfied: python-dateutil>=2.8.2 in /opt/conda/lib/python3.11/site-packages (from pandas) (2.8.2)\n",
      "Requirement already satisfied: pytz>=2020.1 in /opt/conda/lib/python3.11/site-packages (from pandas) (2023.3.post1)\n",
      "Requirement already satisfied: tzdata>=2022.7 in /opt/conda/lib/python3.11/site-packages (from pandas) (2024.1)\n",
      "Requirement already satisfied: six>=1.5 in /opt/conda/lib/python3.11/site-packages (from python-dateutil>=2.8.2->pandas) (1.16.0)\n",
      "Note: you may need to restart the kernel to use updated packages.\n"
     ]
    }
   ],
   "source": [
    "pip install pandas"
   ]
  },
  {
   "cell_type": "code",
   "execution_count": 2,
   "id": "381cff09-e52d-45ae-aa05-7ee2906cfc07",
   "metadata": {},
   "outputs": [],
   "source": [
    "import pandas as pd\n",
    "import numpy as np"
   ]
  },
  {
   "cell_type": "markdown",
   "id": "2eb88527-62c1-4d1d-a61c-47062b01ddf2",
   "metadata": {},
   "source": [
    "## Analyse descriptive du jeu de données"
   ]
  },
  {
   "cell_type": "code",
   "execution_count": 39,
   "id": "8859e7b1-ec03-4d44-9791-6dd0f31cc3d3",
   "metadata": {},
   "outputs": [],
   "source": [
    "df = pd.read_csv('donnees-synop.csv', sep=';', encoding='utf-8')\n",
    "#/home/jovyan/work/"
   ]
  },
  {
   "cell_type": "code",
   "execution_count": 4,
   "id": "71540ac8-ff17-4b99-a3ff-bdee6f89dc52",
   "metadata": {},
   "outputs": [
    {
     "data": {
      "text/html": [
       "<div>\n",
       "<style scoped>\n",
       "    .dataframe tbody tr th:only-of-type {\n",
       "        vertical-align: middle;\n",
       "    }\n",
       "\n",
       "    .dataframe tbody tr th {\n",
       "        vertical-align: top;\n",
       "    }\n",
       "\n",
       "    .dataframe thead th {\n",
       "        text-align: right;\n",
       "    }\n",
       "</style>\n",
       "<table border=\"1\" class=\"dataframe\">\n",
       "  <thead>\n",
       "    <tr style=\"text-align: right;\">\n",
       "      <th></th>\n",
       "      <th>ID OMM station</th>\n",
       "      <th>Date</th>\n",
       "      <th>Pression au niveau mer</th>\n",
       "      <th>Variation de pression en 3 heures</th>\n",
       "      <th>Type de tendance barométrique</th>\n",
       "      <th>Direction du vent moyen 10 mn</th>\n",
       "      <th>Vitesse du vent moyen 10 mn</th>\n",
       "      <th>Température</th>\n",
       "      <th>Point de rosée</th>\n",
       "      <th>Humidité</th>\n",
       "      <th>...</th>\n",
       "      <th>Altitude</th>\n",
       "      <th>communes (name)</th>\n",
       "      <th>communes (code)</th>\n",
       "      <th>EPCI (name)</th>\n",
       "      <th>EPCI (code)</th>\n",
       "      <th>department (name)</th>\n",
       "      <th>department (code)</th>\n",
       "      <th>region (name)</th>\n",
       "      <th>region (code)</th>\n",
       "      <th>mois_de_l_annee</th>\n",
       "    </tr>\n",
       "  </thead>\n",
       "  <tbody>\n",
       "    <tr>\n",
       "      <th>0</th>\n",
       "      <td>81401</td>\n",
       "      <td>2021-04-06T17:00:00+02:00</td>\n",
       "      <td>101160.0</td>\n",
       "      <td>40.0</td>\n",
       "      <td>8.0</td>\n",
       "      <td>60.0</td>\n",
       "      <td>3.3</td>\n",
       "      <td>304.05</td>\n",
       "      <td>297.95</td>\n",
       "      <td>70.0</td>\n",
       "      <td>...</td>\n",
       "      <td>5</td>\n",
       "      <td>Saint-Laurent-du-Maroni</td>\n",
       "      <td>97311</td>\n",
       "      <td>CC de l'Ouest Guyanais</td>\n",
       "      <td>249730037.0</td>\n",
       "      <td>Guyane</td>\n",
       "      <td>973</td>\n",
       "      <td>Guyane</td>\n",
       "      <td>3.0</td>\n",
       "      <td>4</td>\n",
       "    </tr>\n",
       "    <tr>\n",
       "      <th>1</th>\n",
       "      <td>7314</td>\n",
       "      <td>2021-04-06T20:00:00+02:00</td>\n",
       "      <td>102160.0</td>\n",
       "      <td>20.0</td>\n",
       "      <td>3.0</td>\n",
       "      <td>340.0</td>\n",
       "      <td>7.2</td>\n",
       "      <td>281.55</td>\n",
       "      <td>268.75</td>\n",
       "      <td>40.0</td>\n",
       "      <td>...</td>\n",
       "      <td>11</td>\n",
       "      <td>Saint-Denis-d'Oléron</td>\n",
       "      <td>17323</td>\n",
       "      <td>CC de l'Île d'Oléron</td>\n",
       "      <td>241700624.0</td>\n",
       "      <td>Charente-Maritime</td>\n",
       "      <td>17</td>\n",
       "      <td>Nouvelle-Aquitaine</td>\n",
       "      <td>75.0</td>\n",
       "      <td>4</td>\n",
       "    </tr>\n",
       "    <tr>\n",
       "      <th>2</th>\n",
       "      <td>7650</td>\n",
       "      <td>2021-04-06T20:00:00+02:00</td>\n",
       "      <td>101040.0</td>\n",
       "      <td>160.0</td>\n",
       "      <td>3.0</td>\n",
       "      <td>320.0</td>\n",
       "      <td>16.8</td>\n",
       "      <td>282.45</td>\n",
       "      <td>267.75</td>\n",
       "      <td>35.0</td>\n",
       "      <td>...</td>\n",
       "      <td>9</td>\n",
       "      <td>Marignane</td>\n",
       "      <td>13054</td>\n",
       "      <td>Métropole d'Aix-Marseille-Provence</td>\n",
       "      <td>200054807.0</td>\n",
       "      <td>Bouches-du-Rhône</td>\n",
       "      <td>13</td>\n",
       "      <td>Provence-Alpes-Côte d'Azur</td>\n",
       "      <td>93.0</td>\n",
       "      <td>4</td>\n",
       "    </tr>\n",
       "    <tr>\n",
       "      <th>3</th>\n",
       "      <td>7558</td>\n",
       "      <td>2021-04-06T23:00:00+02:00</td>\n",
       "      <td>101820.0</td>\n",
       "      <td>230.0</td>\n",
       "      <td>1.0</td>\n",
       "      <td>360.0</td>\n",
       "      <td>8.7</td>\n",
       "      <td>272.75</td>\n",
       "      <td>264.35</td>\n",
       "      <td>53.0</td>\n",
       "      <td>...</td>\n",
       "      <td>712</td>\n",
       "      <td>Millau</td>\n",
       "      <td>12145</td>\n",
       "      <td>CC de Millau Grands Causses</td>\n",
       "      <td>241200567.0</td>\n",
       "      <td>Aveyron</td>\n",
       "      <td>12</td>\n",
       "      <td>Occitanie</td>\n",
       "      <td>76.0</td>\n",
       "      <td>4</td>\n",
       "    </tr>\n",
       "    <tr>\n",
       "      <th>4</th>\n",
       "      <td>7591</td>\n",
       "      <td>2021-04-06T23:00:00+02:00</td>\n",
       "      <td>NaN</td>\n",
       "      <td>370.0</td>\n",
       "      <td>1.0</td>\n",
       "      <td>20.0</td>\n",
       "      <td>0.9</td>\n",
       "      <td>273.25</td>\n",
       "      <td>262.15</td>\n",
       "      <td>43.0</td>\n",
       "      <td>...</td>\n",
       "      <td>871</td>\n",
       "      <td>Embrun</td>\n",
       "      <td>05046</td>\n",
       "      <td>CC Serre-Ponçon</td>\n",
       "      <td>200067742.0</td>\n",
       "      <td>Hautes-Alpes</td>\n",
       "      <td>05</td>\n",
       "      <td>Provence-Alpes-Côte d'Azur</td>\n",
       "      <td>93.0</td>\n",
       "      <td>4</td>\n",
       "    </tr>\n",
       "  </tbody>\n",
       "</table>\n",
       "<p>5 rows × 82 columns</p>\n",
       "</div>"
      ],
      "text/plain": [
       "   ID OMM station                       Date  Pression au niveau mer  \\\n",
       "0           81401  2021-04-06T17:00:00+02:00                101160.0   \n",
       "1            7314  2021-04-06T20:00:00+02:00                102160.0   \n",
       "2            7650  2021-04-06T20:00:00+02:00                101040.0   \n",
       "3            7558  2021-04-06T23:00:00+02:00                101820.0   \n",
       "4            7591  2021-04-06T23:00:00+02:00                     NaN   \n",
       "\n",
       "   Variation de pression en 3 heures  Type de tendance barométrique  \\\n",
       "0                               40.0                            8.0   \n",
       "1                               20.0                            3.0   \n",
       "2                              160.0                            3.0   \n",
       "3                              230.0                            1.0   \n",
       "4                              370.0                            1.0   \n",
       "\n",
       "   Direction du vent moyen 10 mn  Vitesse du vent moyen 10 mn  Température  \\\n",
       "0                           60.0                          3.3       304.05   \n",
       "1                          340.0                          7.2       281.55   \n",
       "2                          320.0                         16.8       282.45   \n",
       "3                          360.0                          8.7       272.75   \n",
       "4                           20.0                          0.9       273.25   \n",
       "\n",
       "   Point de rosée  Humidité  ...  Altitude          communes (name)  \\\n",
       "0          297.95      70.0  ...         5  Saint-Laurent-du-Maroni   \n",
       "1          268.75      40.0  ...        11     Saint-Denis-d'Oléron   \n",
       "2          267.75      35.0  ...         9                Marignane   \n",
       "3          264.35      53.0  ...       712                   Millau   \n",
       "4          262.15      43.0  ...       871                   Embrun   \n",
       "\n",
       "   communes (code)                         EPCI (name)  EPCI (code)  \\\n",
       "0            97311              CC de l'Ouest Guyanais  249730037.0   \n",
       "1            17323                CC de l'Île d'Oléron  241700624.0   \n",
       "2            13054  Métropole d'Aix-Marseille-Provence  200054807.0   \n",
       "3            12145         CC de Millau Grands Causses  241200567.0   \n",
       "4            05046                     CC Serre-Ponçon  200067742.0   \n",
       "\n",
       "   department (name)  department (code)               region (name)  \\\n",
       "0             Guyane                973                      Guyane   \n",
       "1  Charente-Maritime                 17          Nouvelle-Aquitaine   \n",
       "2   Bouches-du-Rhône                 13  Provence-Alpes-Côte d'Azur   \n",
       "3            Aveyron                 12                   Occitanie   \n",
       "4       Hautes-Alpes                 05  Provence-Alpes-Côte d'Azur   \n",
       "\n",
       "   region (code)  mois_de_l_annee  \n",
       "0            3.0                4  \n",
       "1           75.0                4  \n",
       "2           93.0                4  \n",
       "3           76.0                4  \n",
       "4           93.0                4  \n",
       "\n",
       "[5 rows x 82 columns]"
      ]
     },
     "execution_count": 4,
     "metadata": {},
     "output_type": "execute_result"
    }
   ],
   "source": [
    "df.head()"
   ]
  },
  {
   "cell_type": "code",
   "execution_count": 9,
   "id": "14570db3-1feb-49a2-80aa-6fc8a584cfad",
   "metadata": {},
   "outputs": [
    {
     "data": {
      "text/plain": [
       "(171947, 82)"
      ]
     },
     "execution_count": 9,
     "metadata": {},
     "output_type": "execute_result"
    }
   ],
   "source": [
    "df.shape"
   ]
  },
  {
   "cell_type": "code",
   "execution_count": null,
   "id": "dce91d14-0eb0-4213-b538-5d127e4aa316",
   "metadata": {},
   "outputs": [],
   "source": [
    "df.describe(include='all')"
   ]
  },
  {
   "cell_type": "code",
   "execution_count": null,
   "id": "bad496ae-4dbb-45bd-bcce-c951d46469fd",
   "metadata": {},
   "outputs": [],
   "source": [
    "df.iloc[:, 0:7].describe(include='all')"
   ]
  },
  {
   "cell_type": "code",
   "execution_count": null,
   "id": "c81acfce-a388-4486-85f3-93282c3d3c14",
   "metadata": {},
   "outputs": [],
   "source": [
    "df.iloc[:, 8:16].describe(include='all')"
   ]
  },
  {
   "cell_type": "code",
   "execution_count": null,
   "id": "013a6f51-0188-4b7c-b62e-fd0437a17bcb",
   "metadata": {},
   "outputs": [],
   "source": [
    "df.iloc[:, 17:25].describe(include='all')"
   ]
  },
  {
   "cell_type": "code",
   "execution_count": null,
   "id": "5976dc27-7ac9-4536-9640-37d96e419716",
   "metadata": {},
   "outputs": [],
   "source": [
    "df.iloc[:, 26:34].describe(include='all')"
   ]
  },
  {
   "cell_type": "code",
   "execution_count": null,
   "id": "5c7424a5-f0e3-4535-87c1-ab3e890f4b52",
   "metadata": {},
   "outputs": [],
   "source": [
    "df.iloc[:, 35:42].describe(include='all')"
   ]
  },
  {
   "cell_type": "code",
   "execution_count": null,
   "id": "c922a052-1056-4dd9-ad0c-41c483cde366",
   "metadata": {},
   "outputs": [],
   "source": [
    "df.iloc[:, 43:51].describe(include='all')"
   ]
  },
  {
   "cell_type": "code",
   "execution_count": null,
   "id": "1bbe4a3b-c403-403c-a7f5-ab294599a7d6",
   "metadata": {
    "scrolled": true
   },
   "outputs": [],
   "source": [
    "df.iloc[:, 52:60].describe(include='all')"
   ]
  },
  {
   "cell_type": "code",
   "execution_count": null,
   "id": "283fd63b-cb3e-41ae-a5a7-60afd8675b5f",
   "metadata": {},
   "outputs": [],
   "source": [
    "df.iloc[:, 61:69].describe(include='all')"
   ]
  },
  {
   "cell_type": "code",
   "execution_count": null,
   "id": "928c8c0c-2181-44de-9be1-14922940c930",
   "metadata": {},
   "outputs": [],
   "source": [
    "df.iloc[:, 70:78].describe(include='all')"
   ]
  },
  {
   "cell_type": "code",
   "execution_count": null,
   "id": "713928c8-0e18-478d-bf96-af2bd74d3e41",
   "metadata": {},
   "outputs": [],
   "source": [
    "df.iloc[:, 79:82].describe(include='all')"
   ]
  },
  {
   "cell_type": "code",
   "execution_count": null,
   "id": "0d9873e1-a74c-4f4c-a65b-db3c845894cd",
   "metadata": {},
   "outputs": [],
   "source": []
  },
  {
   "cell_type": "code",
   "execution_count": 10,
   "id": "6ccdac12-cea4-486e-b73f-0d61d6ce6537",
   "metadata": {},
   "outputs": [],
   "source": [
    "df['Date'] = pd.to_datetime(df['Date'], utc=True)"
   ]
  },
  {
   "cell_type": "code",
   "execution_count": null,
   "id": "3425414d-175a-478c-ae40-aa4bd9e29109",
   "metadata": {},
   "outputs": [],
   "source": []
  },
  {
   "cell_type": "markdown",
   "id": "01e8eb3a-df35-49af-a73f-032c5f0c550d",
   "metadata": {},
   "source": [
    "## Model Predictif "
   ]
  },
  {
   "cell_type": "markdown",
   "id": "42db1637-dc5f-4062-91a8-56d5734736fb",
   "metadata": {},
   "source": [
    "Visualisation seaborn pour la correlation des variables "
   ]
  },
  {
   "cell_type": "code",
   "execution_count": 11,
   "id": "a139f403-fb7d-44e4-81aa-392232a853bb",
   "metadata": {},
   "outputs": [
    {
     "name": "stdout",
     "output_type": "stream",
     "text": [
      "Requirement already satisfied: matplotlib in /opt/conda/lib/python3.11/site-packages (3.8.4)\n",
      "Requirement already satisfied: contourpy>=1.0.1 in /opt/conda/lib/python3.11/site-packages (from matplotlib) (1.2.1)\n",
      "Requirement already satisfied: cycler>=0.10 in /opt/conda/lib/python3.11/site-packages (from matplotlib) (0.12.1)\n",
      "Requirement already satisfied: fonttools>=4.22.0 in /opt/conda/lib/python3.11/site-packages (from matplotlib) (4.51.0)\n",
      "Requirement already satisfied: kiwisolver>=1.3.1 in /opt/conda/lib/python3.11/site-packages (from matplotlib) (1.4.5)\n",
      "Requirement already satisfied: numpy>=1.21 in /opt/conda/lib/python3.11/site-packages (from matplotlib) (1.26.4)\n",
      "Requirement already satisfied: packaging>=20.0 in /opt/conda/lib/python3.11/site-packages (from matplotlib) (23.2)\n",
      "Requirement already satisfied: pillow>=8 in /opt/conda/lib/python3.11/site-packages (from matplotlib) (10.3.0)\n",
      "Requirement already satisfied: pyparsing>=2.3.1 in /opt/conda/lib/python3.11/site-packages (from matplotlib) (3.1.2)\n",
      "Requirement already satisfied: python-dateutil>=2.7 in /opt/conda/lib/python3.11/site-packages (from matplotlib) (2.8.2)\n",
      "Requirement already satisfied: six>=1.5 in /opt/conda/lib/python3.11/site-packages (from python-dateutil>=2.7->matplotlib) (1.16.0)\n"
     ]
    }
   ],
   "source": [
    "!pip install matplotlib"
   ]
  },
  {
   "cell_type": "code",
   "execution_count": 12,
   "id": "37b454c1-7c51-4a2c-bce9-ff04a138e8b2",
   "metadata": {},
   "outputs": [
    {
     "name": "stdout",
     "output_type": "stream",
     "text": [
      "Requirement already satisfied: seaborn in /opt/conda/lib/python3.11/site-packages (0.13.2)\n",
      "Requirement already satisfied: numpy!=1.24.0,>=1.20 in /opt/conda/lib/python3.11/site-packages (from seaborn) (1.26.4)\n",
      "Requirement already satisfied: pandas>=1.2 in /opt/conda/lib/python3.11/site-packages (from seaborn) (2.2.2)\n",
      "Requirement already satisfied: matplotlib!=3.6.1,>=3.4 in /opt/conda/lib/python3.11/site-packages (from seaborn) (3.8.4)\n",
      "Requirement already satisfied: contourpy>=1.0.1 in /opt/conda/lib/python3.11/site-packages (from matplotlib!=3.6.1,>=3.4->seaborn) (1.2.1)\n",
      "Requirement already satisfied: cycler>=0.10 in /opt/conda/lib/python3.11/site-packages (from matplotlib!=3.6.1,>=3.4->seaborn) (0.12.1)\n",
      "Requirement already satisfied: fonttools>=4.22.0 in /opt/conda/lib/python3.11/site-packages (from matplotlib!=3.6.1,>=3.4->seaborn) (4.51.0)\n",
      "Requirement already satisfied: kiwisolver>=1.3.1 in /opt/conda/lib/python3.11/site-packages (from matplotlib!=3.6.1,>=3.4->seaborn) (1.4.5)\n",
      "Requirement already satisfied: packaging>=20.0 in /opt/conda/lib/python3.11/site-packages (from matplotlib!=3.6.1,>=3.4->seaborn) (23.2)\n",
      "Requirement already satisfied: pillow>=8 in /opt/conda/lib/python3.11/site-packages (from matplotlib!=3.6.1,>=3.4->seaborn) (10.3.0)\n",
      "Requirement already satisfied: pyparsing>=2.3.1 in /opt/conda/lib/python3.11/site-packages (from matplotlib!=3.6.1,>=3.4->seaborn) (3.1.2)\n",
      "Requirement already satisfied: python-dateutil>=2.7 in /opt/conda/lib/python3.11/site-packages (from matplotlib!=3.6.1,>=3.4->seaborn) (2.8.2)\n",
      "Requirement already satisfied: pytz>=2020.1 in /opt/conda/lib/python3.11/site-packages (from pandas>=1.2->seaborn) (2023.3.post1)\n",
      "Requirement already satisfied: tzdata>=2022.7 in /opt/conda/lib/python3.11/site-packages (from pandas>=1.2->seaborn) (2024.1)\n",
      "Requirement already satisfied: six>=1.5 in /opt/conda/lib/python3.11/site-packages (from python-dateutil>=2.7->matplotlib!=3.6.1,>=3.4->seaborn) (1.16.0)\n"
     ]
    }
   ],
   "source": [
    "!pip install seaborn"
   ]
  },
  {
   "cell_type": "code",
   "execution_count": 13,
   "id": "50dbada8-6e97-4805-942b-53beea8e622c",
   "metadata": {},
   "outputs": [],
   "source": [
    "import matplotlib.pyplot as plt \n",
    "import seaborn as sns"
   ]
  },
  {
   "cell_type": "code",
   "execution_count": null,
   "id": "7af433e6-0ad4-46b3-8e2e-c8aaa2596edb",
   "metadata": {},
   "outputs": [],
   "source": [
    "# sns.pairplot(df)\n",
    "# plt.show()"
   ]
  },
  {
   "cell_type": "code",
   "execution_count": 14,
   "id": "644024b8-8a62-4814-8ebe-772447a01c42",
   "metadata": {},
   "outputs": [
    {
     "name": "stdout",
     "output_type": "stream",
     "text": [
      "Requirement already satisfied: scipy in /opt/conda/lib/python3.11/site-packages (1.13.0)\n",
      "Requirement already satisfied: numpy<2.3,>=1.22.4 in /opt/conda/lib/python3.11/site-packages (from scipy) (1.26.4)\n"
     ]
    }
   ],
   "source": [
    "!pip install scipy"
   ]
  },
  {
   "cell_type": "code",
   "execution_count": 15,
   "id": "471c5fd8-41a9-4c29-a6fe-09d554ac7400",
   "metadata": {},
   "outputs": [],
   "source": [
    "from scipy.stats import pearsonr"
   ]
  },
  {
   "cell_type": "markdown",
   "id": "6431415d-3e69-44a4-9835-bf883753e313",
   "metadata": {},
   "source": [
    "## Heatmap"
   ]
  },
  {
   "cell_type": "code",
   "execution_count": null,
   "id": "c7ec0bd5-3e50-4fcc-a242-35ff00ce5f94",
   "metadata": {},
   "outputs": [],
   "source": [
    "corr = df.corr()\n",
    "sns.heatmap(corr, annot=True, cmap='coolwarm')\n",
    "plt.show()"
   ]
  },
  {
   "cell_type": "code",
   "execution_count": null,
   "id": "acbc0c4e-1214-4720-b57a-c3f8d45eed9b",
   "metadata": {},
   "outputs": [],
   "source": [
    "df = pd.read_csv('donnees-synop.csv', sep=';', encoding='utf-8')"
   ]
  },
  {
   "cell_type": "code",
   "execution_count": null,
   "id": "cf2f4f9d-c1be-4972-89d9-0d3fa19b185b",
   "metadata": {},
   "outputs": [],
   "source": [
    "# Calculer la corrélation entre chaque variable et la température\n",
    "correlation_with_temperature = df.corr()['Température (°C)']\n",
    "\n",
    "# Créer un DataFrame à partir des corrélations\n",
    "correlation_df = pd.DataFrame(correlation_with_temperature)\n",
    "correlation_df.reset_index(inplace=True)\n",
    "correlation_df.columns = ['Variable', 'Correlation with Temperature']\n",
    "\n",
    "# Tracer un graphique de barres des corrélations\n",
    "plt.figure(figsize=(12, 6))\n",
    "sns.barplot(data=correlation_df, x='Correlation with Temperature', y='Variable', color='skyblue')\n",
    "plt.title('Corrélation avec la Température (°C)')\n",
    "plt.xlabel('Corrélation')\n",
    "plt.ylabel('Variable')\n",
    "plt.show()"
   ]
  },
  {
   "cell_type": "code",
   "execution_count": null,
   "id": "b35c1169-5a04-4f40-a649-5ebfb403daff",
   "metadata": {},
   "outputs": [],
   "source": [
    "type(df['Température (°C)']) "
   ]
  },
  {
   "cell_type": "code",
   "execution_count": null,
   "id": "cbf1b4bd-af03-4c68-9e6a-47978f812d1a",
   "metadata": {},
   "outputs": [],
   "source": [
    "df['Température (°C)'].dtype"
   ]
  },
  {
   "cell_type": "code",
   "execution_count": null,
   "id": "6ee3d54a-393c-48e1-9f23-319686cbf26f",
   "metadata": {},
   "outputs": [],
   "source": [
    "df['Date'] = pd.to_datetime(df['Date'], utc=True)"
   ]
  },
  {
   "cell_type": "code",
   "execution_count": null,
   "id": "f008f8dd-b2e8-4adc-8ad8-b7230740b054",
   "metadata": {},
   "outputs": [],
   "source": [
    "# Sélectionner les colonnes numériques dans le DataFrame\n",
    "colonnes_numeriques = df.select_dtypes(include=['float64', 'int64']).columns\n",
    "colonnes_numeriques = df[colonnes_numeriques]"
   ]
  },
  {
   "cell_type": "code",
   "execution_count": null,
   "id": "d4aa5308-2b86-4f8b-a2ce-23a7a16cc41d",
   "metadata": {},
   "outputs": [],
   "source": [
    "# Calculer les corrélations et les p-values pour chaque paire de colonnes\n",
    "#resultats_correlation = pd.DataFrame(columns=['Variable', 'Corrélation avec Température (°C)', 'p-value'])\n",
    "#for colonne in df_numerique.columns:\n",
    "#   if colonne != 'Température (°C)':  # Exclure la colonne 'Température (°C)'\n",
    "#        correlation, p_value = pearsonr(df_numerique[colonne][mask[colonne]], df['Température (°C)'][mask[colonne]])\n",
    "#        resultats_correlation = resultats_correlation.append({'Variable': colonne, 'Corrélation avec Température (°C)': correlation, 'p-value': p_value}, ignore_index=True)\n",
    "\n",
    "# Afficher les résultats\n",
    "#print(resultats_correlation)"
   ]
  },
  {
   "cell_type": "code",
   "execution_count": null,
   "id": "555856f9-d72e-4ec0-8ede-59e33ce42361",
   "metadata": {},
   "outputs": [],
   "source": [
    "# colonnes_qualitatives = ['ID OMM station', 'Date','Niveau barométrique', 'Coordonnees', 'Nom', 'Type de tendance barométrique', \n",
    "#                        'Temps passé 1','Temps passé 2', 'Temps présent', 'communes (name)', 'communes (code)', 'EPCI (name)', \n",
    "#                       'EPCI (code)', 'department (name)', 'Phénomène spécial 1', 'Phénomène spécial 2', \n",
    "#                        'Phénomène spécial 3', 'Phénomène spécial 4', 'department (code)', 'region (name)', \n",
    "#                        'region (code)', 'mois_de_l_annee', 'Méthode de mesure Température du thermomètre mouillé', \n",
    "#                       'Température du thermomètre mouillé', 'Type de tendance barométrique.1', 'Temps passé 1.1', \n",
    "#                       'Temps présent.1', 'Hauteur de base 4', 'Type nuage 4', 'Type nuage 3', 'Type nuage 2', 'Type nuage 3' ]\n",
    "\n",
    "# Exclure les colonnes qualitatives du DataFrame\n",
    "# df.drop(columns=colonnes_qualitatives).isna().sum()"
   ]
  },
  {
   "cell_type": "code",
   "execution_count": 40,
   "id": "327e0a1c-90f1-4eca-b263-93b24416db06",
   "metadata": {},
   "outputs": [],
   "source": [
    "\n",
    "# A tester à ce niveau\n",
    "\n",
    "# Listez les colonnes que vous souhaitez conserver\n",
    "colonnes_a_garder = ['Température (°C)', 'Humidité', 'Point de rosée', 'Latitude', 'Longitude', 'Altitude']\n",
    "\n",
    "# Utilisez la méthode drop pour supprimer les colonnes qui ne sont pas dans la liste\n",
    "df = df.drop(columns=[colonne for colonne in df.columns if colonne not in colonnes_a_garder])"
   ]
  },
  {
   "cell_type": "code",
   "execution_count": 41,
   "id": "9ce6d249-47bc-48e4-848a-20d5ecf6fc71",
   "metadata": {},
   "outputs": [
    {
     "data": {
      "text/plain": [
       "Point de rosée      3004\n",
       "Humidité            2981\n",
       "Température (°C)    2904\n",
       "Latitude               0\n",
       "Longitude              0\n",
       "Altitude               0\n",
       "dtype: int64"
      ]
     },
     "execution_count": 41,
     "metadata": {},
     "output_type": "execute_result"
    }
   ],
   "source": [
    "df.isna().sum()"
   ]
  },
  {
   "cell_type": "code",
   "execution_count": 42,
   "id": "5a02bd95-7d5c-4667-8632-ef6a4d29a55b",
   "metadata": {},
   "outputs": [],
   "source": [
    "# Calculer la moyenne de la colonne \"Température (°C)\"\n",
    "temperature_mean = df['Température (°C)'].mean()\n",
    "humidite_mean = df['Humidité'].mean()\n",
    "point_rosee = df['Point de rosée'].mean()\n",
    "\n",
    "# A CORRIGER CHANGEMENT DE LA TEMPÉRATURE AVEC LES VALEURS ADÉQUAT\n",
    "# Remplacer les valeurs NaN par la moyenne\n",
    "# df['Température (°C)'].fillna(temperature_mean, inplace=True)\n",
    "df.fillna({'Température (°C)':temperature_mean}, inplace=True)\n",
    "df.fillna({'Humidité':humidite_mean}, inplace=True)\n",
    "df.fillna({'Point de rosée':point_rosee}, inplace=True)\n"
   ]
  },
  {
   "cell_type": "code",
   "execution_count": 43,
   "id": "4eb7a9c7-e2da-4559-a2a4-33341ebfe767",
   "metadata": {},
   "outputs": [
    {
     "data": {
      "text/plain": [
       "Point de rosée      0\n",
       "Humidité            0\n",
       "Température (°C)    0\n",
       "Latitude            0\n",
       "Longitude           0\n",
       "Altitude            0\n",
       "dtype: int64"
      ]
     },
     "execution_count": 43,
     "metadata": {},
     "output_type": "execute_result"
    }
   ],
   "source": [
    "df.isna().sum()"
   ]
  },
  {
   "cell_type": "code",
   "execution_count": 20,
   "id": "317964db-249e-4972-b0a0-f5be5d80d8fc",
   "metadata": {},
   "outputs": [
    {
     "name": "stdout",
     "output_type": "stream",
     "text": [
      "         Variable  Corrélation avec Température (°C) p-value\n",
      "0  Point de rosée                           0.918825  0.0000\n",
      "1        Humidité                          -0.225743  0.0000\n",
      "2        Latitude                          -0.140598  0.0000\n",
      "3       Longitude                          -0.398829  0.0000\n",
      "4        Altitude                          -0.250658  0.0000\n"
     ]
    }
   ],
   "source": [
    "from scipy.stats import pearsonr\n",
    "\n",
    "# Calculer le coefficient de corrélation et la p-value pour chaque colonne numérique par rapport à la température\n",
    "correlation_with_temperature = {}\n",
    "p_values = {}\n",
    "for colonne in df.columns:\n",
    "    if colonne != 'Température (°C)':\n",
    "        correlation, p_value = pearsonr(df[colonne], df['Température (°C)'])\n",
    "        correlation_with_temperature[colonne] = correlation\n",
    "        p_values[colonne] = p_value\n",
    "        \n",
    "\n",
    "# Créer un DataFrame pour stocker les résultats\n",
    "resultats_correlation = pd.DataFrame({\n",
    "    'Variable': list(correlation_with_temperature.keys()),\n",
    "    'Corrélation avec Température (°C)': list(correlation_with_temperature.values()),\n",
    "    'p-value': list(p_values.values())\n",
    "})\n",
    "resultats_correlation['p-value'] = resultats_correlation['p-value'].apply(lambda x: '{:.4f}'.format(x))\n",
    "# Afficher les résultats\n",
    "print(resultats_correlation)\n"
   ]
  },
  {
   "cell_type": "code",
   "execution_count": null,
   "id": "3cc5103e-684e-4a14-9b7a-5adb8ad9a37f",
   "metadata": {
    "scrolled": true
   },
   "outputs": [],
   "source": [
    "\n",
    "# Charger le DataFrame\n",
    "df = pd.read_csv('donnees-synop.csv', sep=';', encoding='utf-8')\n",
    "# Listez les colonnes que vous souhaitez conserver\n",
    "colonnes_a_inclure = ['Température (°C)', 'Humidité', 'Point de rosée', 'Latitude', 'Longitude', 'Altitude',\n",
    "                     'Variation de pression en 3 heures', 'Direction du vent moyen 10 mn', 'Vitesse du vent moyen 10 mn']\n",
    "\n",
    "\n",
    "\n",
    "# Supprimer les colonnes qui ne sont pas dans la liste\n",
    "colonnes_a_supprimer = [colonne for colonne in df.columns if colonne not in colonnes_a_inclure]\n",
    "df.drop(columns=colonnes_a_supprimer, inplace=True)\n",
    "\n",
    "# Remplacer les valeurs NaN par la moyenne pour les variables numériques\n",
    "colonnes_numeriques = df.select_dtypes(include=['float64', 'int64']).columns\n",
    "for colonne in colonnes_numeriques:\n",
    "    moyenne_colonne = df[colonne].mean()\n",
    "    df.fillna({colonne : moyenne_colonne}, inplace=True)\n",
    "\n",
    "# Créer une liste pour stocker les résultats de corrélation\n",
    "correlation_list = []\n",
    "\n",
    "# Calculer les corrélations et les p-values pour chaque variable\n",
    "for colonne in df.columns:\n",
    "    if colonne != 'Température (°C)':  # Exclure la colonne 'Température (°C)'\n",
    "        correlation, p_value = pearsonr(df[colonne], df['Température (°C)'])\n",
    "        correlation_list.append({'Variable': colonne, \n",
    "                                 'Corrélation avec Température (°C)': correlation, \n",
    "                                 'p-value': p_value})\n",
    "\n",
    "# Créer un DataFrame à partir de la liste de résultats de corrélation\n",
    "resultats_correlation = pd.DataFrame(correlation_list)\n",
    "\n",
    "# Afficher les résultats\n",
    "print(resultats_correlation)"
   ]
  },
  {
   "cell_type": "code",
   "execution_count": 21,
   "id": "4ca3da81-88e8-49c7-a937-63f3e7444815",
   "metadata": {},
   "outputs": [
    {
     "data": {
      "image/png": "[encoded data removed]",
      "text/plain": [
       "<Figure size 1200x1000 with 2 Axes>"
      ]
     },
     "metadata": {},
     "output_type": "display_data"
    }
   ],
   "source": [
    "\n",
    "import seaborn as sns\n",
    "import matplotlib.pyplot as plt\n",
    "\n",
    "# Calculer la matrice de corrélation\n",
    "corr_matrix = df.corr()\n",
    "\n",
    "# Créer un heatmap\n",
    "plt.figure(figsize=(12, 10))\n",
    "sns.heatmap(corr_matrix, annot=True, cmap='coolwarm', fmt=\".2f\")\n",
    "\n",
    "# Ajouter un titre\n",
    "plt.title('Matrice de corrélation')\n",
    "\n",
    "# Afficher le heatmap\n",
    "plt.show()"
   ]
  },
  {
   "cell_type": "code",
   "execution_count": null,
   "id": "96aaf952-1ec0-4402-bb81-7ac215cb70a3",
   "metadata": {},
   "outputs": [],
   "source": [
    "!pip install scikit-learn"
   ]
  },
  {
   "cell_type": "code",
   "execution_count": null,
   "id": "dd49a3a6-b320-4f2c-becf-a83bf537c40b",
   "metadata": {},
   "outputs": [],
   "source": []
  },
  {
   "cell_type": "code",
   "execution_count": null,
   "id": "49fdc355-928c-4a6c-ac2b-dfa906a8cfb9",
   "metadata": {},
   "outputs": [],
   "source": []
  },
  {
   "cell_type": "code",
   "execution_count": null,
   "id": "0feda872-5831-41d8-b9de-64fa28130e42",
   "metadata": {},
   "outputs": [],
   "source": [
    "from sklearn.model_selection import train_test_split\n",
    "from sklearn.preprocessing import PolynomialFeatures\n",
    "from sklearn.linear_model import LinearRegression\n",
    "from sklearn.metrics import mean_squared_error\n",
    "from sklearn.pipeline import make_pipeline\n",
    "\n",
    "\n",
    "# Sélectionnez les colonnes indépendantes\n",
    "X = df[['Humidité', 'Point de rosée', 'Latitude', 'Longitude', 'Altitude']]\n",
    "\n",
    "# Spécifiez la variable dépendante\n",
    "y = df['Température (°C)']\n",
    "\n",
    "# Spécifiez le degré du polynôme\n",
    "degree = 2  # Choisir le degré de polynôme souhaité\n",
    "\n",
    "# Créez et entraînez le modèle de régression polynomiale\n",
    "model = make_pipeline(PolynomialFeatures(degree), LinearRegression())\n",
    "model.fit(X, y)\n",
    "\n",
    "# Extraire les coefficients du modèle\n",
    "coefficients = model.named_steps['linearregression'].coef_[:5]  # Garder uniquement les 5 premiers coefficients\n",
    "intercept = model.named_steps['linearregression'].intercept_\n",
    "\n",
    "# Afficher l'équation du modèle\n",
    "equation = f\"y = {intercept:.2f}\"\n",
    "for i, coef in enumerate(coefficients[1:], start=1):\n",
    "    equation += f\" + {coef:.2f} * X{i}^{i}\"\n",
    "print(f\"Équation du modèle pour un polynôme de degré {degree}:\", equation)\n",
    "\n",
    "\n"
   ]
  },
  {
   "cell_type": "markdown",
   "id": "305ad695",
   "metadata": {},
   "source": []
  },
  {
   "cell_type": "code",
   "execution_count": null,
   "id": "832846ea-a29b-4e34-8ed7-787e570ef0d4",
   "metadata": {},
   "outputs": [],
   "source": [
    "import numpy as np\n",
    "import matplotlib.pyplot as plt\n",
    "from sklearn.model_selection import train_test_split\n",
    "from sklearn.preprocessing import PolynomialFeatures\n",
    "from sklearn.linear_model import LinearRegression\n",
    "from sklearn.metrics import r2_score, mean_squared_error\n"
   ]
  },
  {
   "cell_type": "code",
   "execution_count": null,
   "id": "7fed1a72-2e9e-4c93-8a17-51bb0a28259d",
   "metadata": {},
   "outputs": [],
   "source": [
    "X = df[['Humidité', 'Point de rosée', 'Latitude', 'Longitude', 'Altitude']]\n",
    "y = df['Température (°C)']\n",
    "X_train, X_test, y_train, y_test = train_test_split(X, y, test_size=0.2, random_state=42)\n"
   ]
  },
  {
   "cell_type": "code",
   "execution_count": null,
   "id": "37102023-70ec-4b8c-9d37-741b0eb8239b",
   "metadata": {},
   "outputs": [],
   "source": [
    "degrees = [1, 2, 3, 4, 5]\n",
    "train_r2_scores = []\n",
    "test_r2_scores = []\n",
    "train_rmse_scores = []\n",
    "test_rmse_scores = []\n",
    "\n",
    "for degree in degrees:\n",
    "    poly_features = PolynomialFeatures(degree=degree)\n",
    "    X_train_poly = poly_features.fit_transform(X_train)\n",
    "    X_test_poly = poly_features.transform(X_test)\n",
    "    \n",
    "    model = LinearRegression()\n",
    "    model.fit(X_train_poly, y_train)\n",
    "    \n",
    "    y_train_pred = model.predict(X_train_poly)\n",
    "    y_test_pred = model.predict(X_test_poly)\n",
    "    \n",
    "    train_r2_scores.append(r2_score(y_train, y_train_pred))\n",
    "    test_r2_scores.append(r2_score(y_test, y_test_pred))\n",
    "    train_rmse_scores.append(np.sqrt(mean_squared_error(y_train, y_train_pred)))\n",
    "    test_rmse_scores.append(np.sqrt(mean_squared_error(y_test, y_test_pred)))\n"
   ]
  },
  {
   "cell_type": "code",
   "execution_count": null,
   "id": "c8dbab40-1312-49c7-821a-280046553582",
   "metadata": {},
   "outputs": [],
   "source": [
    "plt.figure(figsize=(10, 5))\n",
    "\n",
    "plt.subplot(1, 2, 1)\n",
    "plt.plot(degrees, train_r2_scores, label='Ensemble d\\'entraînement')\n",
    "plt.plot(degrees, test_r2_scores, label='Ensemble de test')\n",
    "plt.xlabel('Degré du polynôme')\n",
    "plt.ylabel('R²')\n",
    "plt.title('Performance du modèle (R²)')\n",
    "plt.legend()\n",
    "\n",
    "plt.subplot(1, 2, 2)\n",
    "plt.plot(degrees, train_rmse_scores, label='Ensemble d\\'entraînement')\n",
    "plt.plot(degrees, test_rmse_scores, label='Ensemble de test')\n",
    "plt.xlabel('Degré du polynôme')\n",
    "plt.ylabel('RMSE')\n",
    "plt.title('Performance du modèle (RMSE)')\n",
    "plt.legend()\n",
    "\n",
    "plt.tight_layout()\n",
    "plt.show()\n"
   ]
  },
  {
   "cell_type": "code",
   "execution_count": null,
   "id": "3c6ce80b-ba14-4032-97f3-29e8360bd3a5",
   "metadata": {},
   "outputs": [],
   "source": [
    "!pip install statsmodels"
   ]
  },
  {
   "cell_type": "code",
   "execution_count": 24,
   "id": "4c660418-b793-4608-a5d7-4ccb1e41f7fe",
   "metadata": {},
   "outputs": [],
   "source": [
    "import statsmodels.formula.api as smf\n",
    "import statsmodels.api as sm"
   ]
  },
  {
   "cell_type": "code",
   "execution_count": 44,
   "id": "72ddbc21-ac6d-48ed-8352-949aab667629",
   "metadata": {},
   "outputs": [],
   "source": [
    "df['Température (°C)']\n",
    "df[['Humidité', 'Point de rosée', 'Latitude', 'Longitude', 'Altitude']]\n",
    "\n",
    "\n",
    "# Renommer les colonnes 'Humidité', 'Point de rosée', 'Latitude', 'Longitude', 'Altitude'\n",
    "nouveaux_noms = {'Humidité': 'Humidite', 'Point de rosée': 'Point_de_rosee', 'Latitude': 'Latitude', \n",
    "                 'Longitude': 'Longitude', 'Altitude': 'Altitude', 'Température (°C)':'Temperature_C'}\n",
    "df.rename(columns=nouveaux_noms, inplace=True)\n"
   ]
  },
  {
   "cell_type": "code",
   "execution_count": 45,
   "id": "8a5d5978-69f4-45f2-aa7f-09215ce8c31c",
   "metadata": {},
   "outputs": [],
   "source": [
    "reg = smf.ols('Temperature_C ~ Humidite + Point_de_rosee + Latitude+ Longitude', data = df)"
   ]
  },
  {
   "cell_type": "code",
   "execution_count": 46,
   "id": "0d117f17-4b0c-4aa7-801c-0a8908512ab0",
   "metadata": {},
   "outputs": [],
   "source": [
    "res = reg.fit()"
   ]
  },
  {
   "cell_type": "code",
   "execution_count": 27,
   "id": "e43800df-aaea-4372-baed-f8ba241ff344",
   "metadata": {},
   "outputs": [
    {
     "name": "stdout",
     "output_type": "stream",
     "text": [
      "                            OLS Regression Results                            \n",
      "==============================================================================\n",
      "Dep. Variable:          Temperature_C   R-squared:                       0.995\n",
      "Model:                            OLS   Adj. R-squared:                  0.995\n",
      "Method:                 Least Squares   F-statistic:                 7.933e+06\n",
      "Date:                Wed, 17 Apr 2024   Prob (F-statistic):               0.00\n",
      "Time:                        08:05:42   Log-Likelihood:            -1.7798e+05\n",
      "No. Observations:              171947   AIC:                         3.560e+05\n",
      "Df Residuals:                  171942   BIC:                         3.560e+05\n",
      "Df Model:                           4                                         \n",
      "Covariance Type:            nonrobust                                         \n",
      "==================================================================================\n",
      "                     coef    std err          t      P>|t|      [0.025      0.975]\n",
      "----------------------------------------------------------------------------------\n",
      "Intercept       -261.2065      0.066  -3928.460      0.000    -261.337    -261.076\n",
      "Humidite          -0.2278      0.000  -2186.644      0.000      -0.228      -0.228\n",
      "Point_de_rosee     1.0346      0.000   4452.319      0.000       1.034       1.035\n",
      "Latitude           0.0058   7.07e-05     81.443      0.000       0.006       0.006\n",
      "Longitude         -0.0001   6.42e-05     -1.618      0.106      -0.000     2.2e-05\n",
      "==============================================================================\n",
      "Omnibus:                    99814.519   Durbin-Watson:                   1.791\n",
      "Prob(Omnibus):                  0.000   Jarque-Bera (JB):         21394400.346\n",
      "Skew:                           1.694   Prob(JB):                         0.00\n",
      "Kurtosis:                      57.541   Cond. No.                     1.20e+04\n",
      "==============================================================================\n",
      "\n",
      "Notes:\n",
      "[1] Standard Errors assume that the covariance matrix of the errors is correctly specified.\n",
      "[2] The condition number is large, 1.2e+04. This might indicate that there are\n",
      "strong multicollinearity or other numerical problems.\n"
     ]
    }
   ],
   "source": [
    "print(res.summary())"
   ]
  },
  {
   "cell_type": "code",
   "execution_count": 47,
   "id": "f1bd0467-de22-45ac-8a24-d79513c0b404",
   "metadata": {},
   "outputs": [
    {
     "name": "stdout",
     "output_type": "stream",
     "text": [
      "paramètres :\n",
      " Intercept        -261.206516\n",
      "Humidite           -0.227818\n",
      "Point_de_rosee      1.034573\n",
      "Latitude            0.005755\n",
      "Longitude          -0.000104\n",
      "dtype: float64 \n",
      "\n",
      "degrés de liberté :\n",
      " 4.0 \n",
      "\n"
     ]
    }
   ],
   "source": [
    "#paramètres estimés Beta chap\n",
    "print('paramètres :\\n',res.params,'\\n')\n",
    "#degrés de liberté du modèle\n",
    "print('degrés de liberté :\\n',res.df_model,'\\n')"
   ]
  },
  {
   "cell_type": "code",
   "execution_count": null,
   "id": "bceb9156-3589-4423-8883-de8dd430752e",
   "metadata": {},
   "outputs": [],
   "source": [
    "# Ecriture du calcul\n",
    "# res.params[0]+res.params[1]*70+res.params[2]*297.95+res.params[3]*5  #Exemple de Calcul (1er ligne de la matrice)"
   ]
  },
  {
   "cell_type": "code",
   "execution_count": null,
   "id": "f2c5ecb8-2c36-4cd3-93a1-712171248a0a",
   "metadata": {},
   "outputs": [],
   "source": []
  },
  {
   "cell_type": "code",
   "execution_count": 48,
   "id": "f869e5d2-167b-4bcf-ae64-f278e747eb6a",
   "metadata": {},
   "outputs": [
    {
     "name": "stdout",
     "output_type": "stream",
     "text": [
      "0         31.134312\n",
      "1          7.987310\n",
      "2          8.076123\n",
      "3          0.461998\n",
      "4          0.466330\n",
      "            ...    \n",
      "171942    21.585802\n",
      "171943    16.896168\n",
      "171944    15.293096\n",
      "171945    18.123991\n",
      "171946    13.183019\n",
      "Length: 171947, dtype: float64\n"
     ]
    }
   ],
   "source": [
    "# Extraction des valeurs prédites pour Y.\n",
    "Y_chap = res.fittedvalues # OU res.predict()\n",
    "print(Y_chap)"
   ]
  },
  {
   "cell_type": "code",
   "execution_count": 49,
   "id": "67198979-72ab-426f-870a-78ec007d36b6",
   "metadata": {},
   "outputs": [
    {
     "name": "stdout",
     "output_type": "stream",
     "text": [
      "0        -0.234312\n",
      "1         0.412690\n",
      "2         1.223877\n",
      "3        -0.861998\n",
      "4        -0.366330\n",
      "            ...   \n",
      "171942    0.214198\n",
      "171943    0.203832\n",
      "171944   -0.093096\n",
      "171945   -0.423991\n",
      "171946    0.016981\n",
      "Length: 171947, dtype: float64\n"
     ]
    }
   ],
   "source": [
    "# calcul du vecteur Epsilon\n",
    "# valeurs réelles - valeurs prédites\n",
    "Y = df['Temperature_C']\n",
    "eps = Y-Y_chap\n",
    "print(eps)"
   ]
  },
  {
   "cell_type": "code",
   "execution_count": 50,
   "id": "af43da93-6732-4acb-897b-847270502cf3",
   "metadata": {},
   "outputs": [
    {
     "data": {
      "image/png": "[encoded data removed]",
      "text/plain": [
       "<Figure size 640x480 with 5 Axes>"
      ]
     },
     "metadata": {},
     "output_type": "display_data"
    }
   ],
   "source": [
    "fig = sm.graphics.plot_partregress_grid(res)\n",
    "# ou fig = sm.graphics.plot_ccpr(res, \"Humidite\") si on souhaite en obsever un en particulier"
   ]
  },
  {
   "cell_type": "code",
   "execution_count": 36,
   "id": "d0366a7b-dbc4-4fd8-b163-489b623b7805",
   "metadata": {},
   "outputs": [
    {
     "name": "stdout",
     "output_type": "stream",
     "text": [
      "SCR : 79794.40955334908 \n",
      "\n",
      "SCE : 14725497.89117913 \n",
      "\n",
      "SCT : 14805292.300732478 \n",
      "\n",
      "R2 : 0.994610413091986 \n",
      "\n",
      "R2 ajusté : 0.9946102877104757 \n",
      "\n",
      "mse_resid : 0.46407747701753543 \n",
      "\n",
      "mse_total : 86.10431356782058 \n",
      "\n",
      "calcul manuel du F : 7932672.140121291 \n",
      "\n",
      "F fourni : 7932672.140121291\n",
      "P-value :  Intercept         0.000000\n",
      "Humidite          0.000000\n",
      "Point_de_rosee    0.000000\n",
      "Latitude          0.000000\n",
      "Longitude         0.105681\n",
      "dtype: float64\n"
     ]
    }
   ],
   "source": [
    "#SCR\n",
    "print('SCR :',res.ssr,'\\n')\n",
    "#SCE\n",
    "print('SCE :',res.ess,'\\n')\n",
    "#SCT\n",
    "print('SCT :',res.centered_tss,'\\n')\n",
    "#le R2\n",
    "print('R2 :',res.rsquared,'\\n')\n",
    "#le R2 ajusté\n",
    "print('R2 ajusté :',res.rsquared_adj,'\\n')\n",
    "# SCR divisé par le nombre de degrés de liberté des résidus.\n",
    "print('mse_resid :',res.mse_resid,'\\n')\n",
    "# SCT divisé par somme des degrés de liberté des paramètres et des résidus\n",
    "print('mse_total :',res.mse_total,'\\n')\n",
    "#calcul manuel de la statistique F à partir des carrés moyens\n",
    "F = res.mse_model / res.mse_resid\n",
    "print('calcul manuel du F :',F,'\\n')\n",
    "#la statistique F fourni par l'objet res\n",
    "print('F fourni :',res.fvalue)\n",
    "print('P-value : ', res.pvalues)"
   ]
  },
  {
   "cell_type": "markdown",
   "id": "41918adc-16d1-49d7-b382-4f7b0d682812",
   "metadata": {},
   "source": [
    "Le test de Fisher indique que le modèle est très performant pour expliquer la variance (la tendance) des données, avec un coefficient de détermination élevé 0.9946  et des valeurs de SCR, SCE et SCT assez faible. Par contre le coefficient de Longitude n'est pas significatif dans notre modèle ce qui indique que le jeu de données n'est pas assez exhaustif pour cette variable."
   ]
  },
  {
   "cell_type": "code",
   "execution_count": null,
   "id": "cdfa0360-d63f-41a3-b139-5e16468e9c96",
   "metadata": {},
   "outputs": [],
   "source": [
    "from sklearn.model_selection import train_test_split\n",
    "from sklearn.preprocessing import PolynomialFeatures\n",
    "from sklearn.linear_model import LinearRegression\n",
    "from sklearn.metrics import mean_squared_error\n",
    "from sklearn.pipeline import make_pipeline\n",
    "\n",
    "# Séparation des variables indépendantes (X) et de la variable cible (y)\n",
    "X = df[['Humidite', 'Point_de_rosee', 'Latitude', 'Longitude', 'Altitude']]\n",
    "y = df['Temperature_C']\n",
    "\n",
    "# Séparation des données en ensembles d'entraînement et de test\n",
    "X_train, X_test, y_train, y_test = train_test_split(X, y, test_size=0.2, random_state=42)\n",
    "\n",
    "# Création des caractéristiques polynomiales\n",
    "degree = 2  # Degré du polynôme\n",
    "poly_features = PolynomialFeatures(degree=degree)\n",
    "X_train_poly = poly_features.fit_transform(X_train)\n",
    "X_test_poly = poly_features.transform(X_test)\n",
    "\n",
    "# Entraînement du modèle de régression linéaire\n",
    "model = LinearRegression()\n",
    "model.fit(X_train_poly, y_train)\n",
    "\n",
    "# Prédiction sur l'ensemble de test\n",
    "y_pred = model.predict(X_test_poly)\n",
    "\n",
    "# Calcul de l'erreur quadratique moyenne\n",
    "mse = mean_squared_error(y_test, y_pred)\n",
    "print(\"Erreur quadratique moyenne:\", mse)"
   ]
  },
  {
   "cell_type": "code",
   "execution_count": null,
   "id": "b34efa18-2a1b-4c83-8898-b15cb80abc66",
   "metadata": {},
   "outputs": [],
   "source": [
    "\n",
    "# Colonnes qualitatives à exclure\n",
    "# colonnes_qualitatives = ['ID OMM station', 'Date','Niveau barométrique', 'Coordonnees', 'Nom', 'Type de tendance barométrique', \n",
    "                        'Temps passé 1','Temps passé 2', 'Temps présent', 'communes (name)', 'communes (code)', 'EPCI (name)', \n",
    "                        'EPCI (code)', 'department (name)', 'Phénomène spécial 1', 'Phénomène spécial 2', \n",
    "                        'Phénomène spécial 3', 'Phénomène spécial 4', 'department (code)', 'region (name)', \n",
    "                        'region (code)', 'mois_de_l_annee', 'Méthode de mesure Température du thermomètre mouillé', \n",
    "                        'Température du thermomètre mouillé', 'Type de tendance barométrique.1', 'Temps passé 1.1', \n",
    "                        'Temps présent.1', 'Hauteur de base 4', 'Type nuage 4', 'Type nuage 3', 'Type nuage 2', 'Type nuage 3' ]\n",
    "\n",
    "# Exclure les colonnes qualitatives du DataFrame\n",
    "#df_numerique = df.drop(columns=colonnes_qualitatives)\n",
    "\n",
    "# Exclure les valeurs infinies et NaN\n",
    "# mask = np.isfinite(df_numerique) & np.isfinite(df['Température (°C)'])\n",
    "\n",
    "# Calculer les corrélations et les p-values pour chaque paire de colonnes\n",
    "resultats_correlation = pd.DataFrame(columns=['Variable', 'Corrélation avec Température (°C)', 'p-value'])\n",
    "for colonne in df_numerique.columns:\n",
    "    if colonne != 'Température (°C)':  # Exclure la colonne 'Température (°C)'\n",
    "        correlation, p_value = pearsonr(df_numerique[colonne][mask[colonne]], df['Température (°C)'][mask[colonne]])\n",
    "        resultats_correlation = resultats_correlation.append({'Variable': colonne, 'Corrélation avec Température (°C)': correlation, 'p-value': p_value}, ignore_index=True)\n",
    "\n",
    "# Afficher les résultats\n",
    "\n",
    "\n",
    "# Colonnes qualitatives à exclure\n",
    "# colonnes_qualitatives = ['ID OMM station', 'Date','Niveau barométrique', 'Coordonnees', 'Nom', 'Type de tendance barométrique', \n",
    "                        'Temps passé 1','Temps passé 2', 'Temps présent', 'communes (name)', 'communes (code)', 'EPCI (name)', \n",
    "                        'EPCI (code)', 'department (name)', 'Phénomène spécial 1', 'Phénomène spécial 2', \n",
    "                        'Phénomène spécial 3', 'Phénomène spécial 4', 'department (code)', 'region (name)', \n",
    "                        'region (code)', 'mois_de_l_annee', 'Méthode de mesure Température du thermomètre mouillé', \n",
    "                        'Température du thermomètre mouillé', 'Type de tendance barométrique.1', 'Temps passé 1.1', \n",
    "                        'Temps présent.1', 'Hauteur de base 4', 'Type nuage 4', 'Type nuage 3', 'Type nuage 2', 'Type nuage 3' ]\n",
    "\n",
    "# Exclure les colonnes qualitatives du DataFrame\n",
    "#df_numerique = df.drop(columns=colonnes_qualitatives)\n",
    "\n",
    "# Exclure les valeurs infinies et NaN\n",
    "# mask = np.isfinite(df_numerique) & np.isfinite(df['Température (°C)'])\n",
    "\n",
    "# Calculer les corrélations et les p-values pour chaque paire de colonnes\n",
    "resultats_correlation = pd.DataFrame(columns=['Variable', 'Corrélation avec Température (°C)', 'p-value'])\n",
    "for colonne in df_numerique.columns:\n",
    "    if colonne != 'Température (°C)':  # Exclure la colonne 'Température (°C)'\n",
    "        correlation, p_value = pearsonr(df_numerique[colonne][mask[colonne]], df['Température (°C)'][mask[colonne]])\n",
    "        resultats_correlation = resultats_correlation.append({'Variable': colonne, 'Corrélation avec Température (°C)': correlation, 'p-value': p_value}, ignore_index=True)\n",
    "\n",
    "resultats_correlation\n",
    "\n"
   ]
  }
 ],
 "metadata": {
  "kernelspec": {
   "display_name": "Python 3 (ipykernel)",
   "language": "python",
   "name": "python3"
  },
  "language_info": {
   "codemirror_mode": {
    "name": "ipython",
    "version": 3
   },
   "file_extension": ".py",
   "mimetype": "text/x-python",
   "name": "python",
   "nbconvert_exporter": "python",
   "pygments_lexer": "ipython3",
   "version": "3.11.6"
  }
 },
 "nbformat": 4,
 "nbformat_minor": 5
}
